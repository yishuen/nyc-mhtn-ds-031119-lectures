{
 "cells": [
  {
   "cell_type": "markdown",
   "metadata": {},
   "source": [
    "# Getting Started\n",
    "\n",
    "Calculate the probability of the following:\n",
    "\n",
    "1. When tossing a coin, it will come up heads.\n",
    "2. When tossing a coin 3 times, you will get a total of exactly 2 heads.\n",
    "3. When rolling a die, it will be a 3.\n",
    "4. When rolling a die, the number will be less than a 3.\n",
    "5. When rolling a die two times, the sum of both roles is 7. "
   ]
  },
  {
   "cell_type": "markdown",
   "metadata": {},
   "source": [
    "# Introduction to Probability Distributions"
   ]
  },
  {
   "cell_type": "markdown",
   "metadata": {},
   "source": [
    "Question:  How do we know that the probability of us flipping a heads is exactly .5?\n",
    "\n"
   ]
  },
  {
   "cell_type": "markdown",
   "metadata": {},
   "source": [
    "### Random Variable\n",
    "- A random variable is a variable that is subject to randomness, which means it can take on different values. \n",
    "- It is normal to use an X to denote a random variable. The random variable takes on different values depending on the situation. \n",
    "- Each value of the random variable has a probability or percentage associated with it."
   ]
  },
  {
   "cell_type": "markdown",
   "metadata": {},
   "source": [
    "## Discrete vs. Continuous Variables\n",
    "\n",
    "-  A *discrete variable* is one which may take on only a countable number of distinct values.\n",
    "    - Number of students in a class\n",
    "    - Number of heads when tossing two coins\n",
    "\n",
    "-  A *continuous variable* is one which takes an infinite number of possible values. \n",
    "    - Height of a student\n",
    "    - Distance from one house to another.\n"
   ]
  },
  {
   "cell_type": "markdown",
   "metadata": {},
   "source": [
    "### Quiz Time\n",
    "\n",
    "Look at the following examples and categorize them as either being discrete or continuous.\n",
    "\n",
    "1. The amount of rain that could will fall tomorrow.\n",
    "2. The number of classes a student takes in a semester.\n",
    "3. The commute time to work.\n",
    "4. The number of students sleeping in a class.\n",
    "5. The amount of sleep you got last night."
   ]
  },
  {
   "cell_type": "markdown",
   "metadata": {},
   "source": [
    "## What are probability distributions?\n",
    "\n",
    "The probability distribution for a random variable describes how the probabilities are distributed over the values of the random variable.\n",
    "\n",
    "Probabilities Range Between 0 and 1.\n",
    "\n",
    "Sum of probabilities for a Distribution will equal 1\n",
    "\n",
    "<img src=\"sum_of_p.jpg\">"
   ]
  },
  {
   "cell_type": "markdown",
   "metadata": {},
   "source": [
    "<img src=\"uniform_die.jpg\">"
   ]
  },
  {
   "cell_type": "markdown",
   "metadata": {},
   "source": [
    "A *Bernouilli distribution* is a discrete probability distribution for a single trial — a random experiment that has only two outcomes (usually called a “Success” or a “Failure”). \n",
    "\n",
    "For example, the probability of getting a heads (a “success”) while flipping a coin is 0.5. The probability of “failure” is 1 – P (1 minus the probability of success, which also equals 0.5 for a coin toss)."
   ]
  },
  {
   "cell_type": "markdown",
   "metadata": {},
   "source": [
    "<img src=\"bernoulli_coin.gif\">"
   ]
  },
  {
   "cell_type": "markdown",
   "metadata": {},
   "source": [
    "### How do we know the probability of us getting heads is .5?\n",
    "\n"
   ]
  },
  {
   "cell_type": "markdown",
   "metadata": {},
   "source": [
    "Everyone flip a coin 10 times and keep count of how many times you got heads. "
   ]
  },
  {
   "cell_type": "code",
   "execution_count": 9,
   "metadata": {},
   "outputs": [],
   "source": [
    "results = [7, 7, 5, 4, 3, 3, 5, 7, 6, 2, 3, 7, 7, 7, 7, 5, 6, 7, 2,6, 7]"
   ]
  },
  {
   "cell_type": "code",
   "execution_count": 20,
   "metadata": {},
   "outputs": [],
   "source": [
    "results = {0:0, \n",
    "1:0,\n",
    "2:1,\n",
    "3:1,\n",
    "4:4,\n",
    "5:7,\n",
    "6:5,\n",
    "7:3,\n",
    "8:1,\n",
    "9:1,\n",
    "10:0,}"
   ]
  },
  {
   "cell_type": "code",
   "execution_count": 22,
   "metadata": {},
   "outputs": [
    {
     "data": {
      "image/png": "[encoded data removed]",
      "text/plain": [
       "<Figure size 432x288 with 1 Axes>"
      ]
     },
     "metadata": {
      "needs_background": "light"
     },
     "output_type": "display_data"
    }
   ],
   "source": [
    "import matplotlib.pyplot as plt\n",
    "import numpy as np\n",
    "%matplotlib inline\n",
    "plt.bar(list(results.keys()), results.values())\n",
    "# plt.hist(results, density=True)\n",
    "plt.ylabel('Probability');"
   ]
  },
  {
   "cell_type": "markdown",
   "metadata": {},
   "source": [
    "## Binomial Distribution\n",
    "\n",
    "A distribution where only two outcomes are possible, such as success or failure, gain or loss, win or lose and where the probability of success and failure is same for all the trials. \n",
    "\n",
    "The outcomes need not be equally likely, and each trial is independent of each other. \n",
    "\n",
    "\n",
    "The parameters of a binomial distribution are n and p where n is the total number of trials, and p is the probability of success in each trial. Its probability distribution function is given by :"
   ]
  },
  {
   "cell_type": "markdown",
   "metadata": {},
   "source": [
    "<img src=\"multiple_binomial.png\">"
   ]
  },
  {
   "cell_type": "markdown",
   "metadata": {},
   "source": [
    "What if I play an infinite number of times with equal probability for winning and losing?\n",
    "\n",
    "The bars get infinitely small and the probability distribution looks something like a continuous set of bars which are very close, almost continuous. "
   ]
  },
  {
   "cell_type": "code",
   "execution_count": 12,
   "metadata": {},
   "outputs": [],
   "source": [
    "from scipy.stats import binom\n",
    "data_binom = binom.rvs(n=10000,p=0.5,size=10000)\n"
   ]
  },
  {
   "cell_type": "code",
   "execution_count": 17,
   "metadata": {},
   "outputs": [
    {
     "data": {
      "text/plain": [
       "(array([2.07253886e-05, 1.55440415e-05, 6.73575130e-05, 2.79792746e-04,\n",
       "        6.11398964e-04, 1.43523316e-03, 2.74611399e-03, 4.25388601e-03,\n",
       "        6.02072539e-03, 7.24870466e-03, 8.34196891e-03, 6.91191710e-03,\n",
       "        5.69430052e-03, 4.16062176e-03, 2.17098446e-03, 1.10362694e-03,\n",
       "        4.76683938e-04, 2.12435233e-04, 2.59067358e-05, 1.55440415e-05]),\n",
       " array([4800. , 4819.3, 4838.6, 4857.9, 4877.2, 4896.5, 4915.8, 4935.1,\n",
       "        4954.4, 4973.7, 4993. , 5012.3, 5031.6, 5050.9, 5070.2, 5089.5,\n",
       "        5108.8, 5128.1, 5147.4, 5166.7, 5186. ]),\n",
       " <a list of 20 Patch objects>)"
      ]
     },
     "execution_count": 17,
     "metadata": {},
     "output_type": "execute_result"
    },
    {
     "data": {
      "image/png": "[encoded data removed]",
      "text/plain": [
       "<Figure size 432x288 with 1 Axes>"
      ]
     },
     "metadata": {
      "needs_background": "light"
     },
     "output_type": "display_data"
    }
   ],
   "source": [
    "plt.hist(data_binom, density=True, bins=20)"
   ]
  },
  {
   "cell_type": "markdown",
   "metadata": {},
   "source": [
    "## Expected Value Computation\n",
    "The expected value, which can be thought of as the outcome that we should expect on average, is computed using the following formula for discrete probability distributions:\n",
    "\n",
    "<img src='expected_value.png'>"
   ]
  },
  {
   "cell_type": "code",
   "execution_count": 16,
   "metadata": {},
   "outputs": [
    {
     "data": {
      "text/plain": [
       "<matplotlib.axes._subplots.AxesSubplot at 0x1a231eacf8>"
      ]
     },
     "execution_count": 16,
     "metadata": {},
     "output_type": "execute_result"
    },
    {
     "data": {
      "image/png": "[encoded data removed]",
      "text/plain": [
       "<Figure size 432x288 with 1 Axes>"
      ]
     },
     "metadata": {
      "needs_background": "light"
     },
     "output_type": "display_data"
    }
   ],
   "source": [
    "import seaborn as sns\n",
    "\n",
    "# Density Plot and Histogram of all arrival delays\n",
    "sns.distplot(data_binom, hist=True, kde=True, \n",
    "             bins=int(180/5), color = 'darkblue', \n",
    "             hist_kws={'edgecolor':'black'},\n",
    "             kde_kws={'linewidth': 4})"
   ]
  },
  {
   "cell_type": "markdown",
   "metadata": {},
   "source": [
    "This now becomes a probability density function. Notice that this now becomes a continuous function."
   ]
  },
  {
   "cell_type": "markdown",
   "metadata": {},
   "source": [
    "For a discrete random variable, x, the probability distribution is defined by a probability mass function, denoted by f(x). This function provides the probability for each value of the random variable."
   ]
  },
  {
   "cell_type": "markdown",
   "metadata": {},
   "source": [
    "For a continuous random variable, since there is an infinite number of values in any interval, the probability that a continuous random variable will lie within a given interval is considered. So here, the probability distribution is defined by probability density function, also denoted by f(x)."
   ]
  },
  {
   "cell_type": "markdown",
   "metadata": {},
   "source": []
  },
  {
   "cell_type": "code",
   "execution_count": 23,
   "metadata": {},
   "outputs": [
    {
     "data": {
      "image/png": "[encoded data removed]",
      "text/plain": [
       "<Figure size 576x288 with 1 Axes>"
      ]
     },
     "metadata": {
      "needs_background": "light"
     },
     "output_type": "display_data"
    }
   ],
   "source": [
    "import numpy as np\n",
    "import matplotlib.pyplot as plt\n",
    "\n",
    "np.random.seed(19680801)\n",
    "\n",
    "mu = 200\n",
    "sigma = 25\n",
    "n_bins = 50\n",
    "x = np.random.normal(mu, sigma, size=100)\n",
    "\n",
    "fig, ax = plt.subplots(figsize=(8, 4))\n",
    "\n",
    "# plot the cumulative histogram\n",
    "n, bins, patches = ax.hist(x, n_bins, density=True, histtype='step',\n",
    "                           cumulative=True, label='Empirical')\n",
    "\n",
    "# Add a line showing the expected distribution.\n",
    "y = ((1 / (np.sqrt(2 * np.pi) * sigma)) *\n",
    "     np.exp(-0.5 * (1 / sigma * (bins - mu))**2))\n",
    "y = y.cumsum()\n",
    "y /= y[-1]\n",
    "\n",
    "ax.plot(bins, y, 'k--', linewidth=1.5, label='Theoretical')\n",
    "\n",
    "# # Overlay a reversed cumulative histogram.\n",
    "# ax.hist(x, bins=bins, density=True, histtype='step', cumulative=-1,\n",
    "#         label='Reversed emp.')\n",
    "\n",
    "# tidy up the figure\n",
    "ax.grid(True)\n",
    "ax.legend(loc='right')\n",
    "ax.set_title('Cumulative step histograms')\n",
    "ax.set_xlabel('Annual rainfall (mm)')\n",
    "ax.set_ylabel('Likelihood of occurrence')\n",
    "\n",
    "plt.show()"
   ]
  },
  {
   "cell_type": "markdown",
   "metadata": {},
   "source": [
    "Probability density function: A probability density function is a continuous graph showing the distribution of the function."
   ]
  },
  {
   "cell_type": "code",
   "execution_count": null,
   "metadata": {},
   "outputs": [],
   "source": []
  }
 ],
 "metadata": {
  "kernelspec": {
   "display_name": "Python 3",
   "language": "python",
   "name": "python3"
  },
  "language_info": {
   "codemirror_mode": {
    "name": "ipython",
    "version": 3
   },
   "file_extension": ".py",
   "mimetype": "text/x-python",
   "name": "python",
   "nbconvert_exporter": "python",
   "pygments_lexer": "ipython3",
   "version": "3.6.8"
  }
 },
 "nbformat": 4,
 "nbformat_minor": 2
}
