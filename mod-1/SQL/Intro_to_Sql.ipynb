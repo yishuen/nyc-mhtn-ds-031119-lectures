{
 "cells": [
  {
   "cell_type": "markdown",
   "metadata": {
    "slideshow": {
     "slide_type": "slide"
    }
   },
   "source": [
    "# Starting off "
   ]
  },
  {
   "cell_type": "markdown",
   "metadata": {
    "slideshow": {
     "slide_type": "fragment"
    }
   },
   "source": [
    "### For last week's lab?\n",
    "- How did you store your data after scraping or pulling from the API?\n",
    "- Did you run into any issuesstoring your data this way?\n",
    "- What would you do if you need to update the saved data or add additional data points?\n"
   ]
  },
  {
   "cell_type": "markdown",
   "metadata": {
    "slideshow": {
     "slide_type": "slide"
    }
   },
   "source": [
    "# A BEGINNER’S GUIDE TO DATABASES & SQL"
   ]
  },
  {
   "cell_type": "markdown",
   "metadata": {
    "slideshow": {
     "slide_type": "subslide"
    }
   },
   "source": [
    "**Objective:** SWBAT create a SQLite db instance, create tables and insert records into those tables\n",
    "\n",
    "**Agenda:**\n",
    "- Overview of databases\n",
    "- Discuss Differences between SQL DBs\n",
    "- Explain the basic structures of a RDBMS\n",
    "- Instantiate SQLite DB instance on your computer"
   ]
  },
  {
   "cell_type": "markdown",
   "metadata": {
    "slideshow": {
     "slide_type": "slide"
    }
   },
   "source": [
    "### What is a Database?\n",
    "- In general, databases store sets of data that can be queried for use in other applications. A database man\n",
    "agement system supports the development, administration and use of database platforms."
   ]
  },
  {
   "cell_type": "markdown",
   "metadata": {
    "slideshow": {
     "slide_type": "subslide"
    }
   },
   "source": [
    "\n",
    "### What is a Relational Database? \n",
    "- A *relational database management system* (**RDBMS**) is a type of DBMS with a row-based table structure that connects related data elements and includes functions that maintain the security, accuracy, integrity and consistency of the data.\n",
    "- The most basic **RDBMS** functions are related to *create, read, update and delete* operations, collectively known as **CRUD**."
   ]
  },
  {
   "cell_type": "markdown",
   "metadata": {
    "slideshow": {
     "slide_type": "subslide"
    }
   },
   "source": [
    "### What is SQL?\n",
    "\n",
    "- **SQL** (usually pronounced like the word “sequel”) stands for Structured Query Language.\n",
    "- A programming language used to communicate with data stored in a relational database management system.\n",
    "- SQL syntax is similar to the English language, which makes it relatively easy to write, read, and interpret."
   ]
  },
  {
   "cell_type": "markdown",
   "metadata": {
    "slideshow": {
     "slide_type": "slide"
    }
   },
   "source": [
    "## POPULAR RDBMS\n",
    "\n",
    "- SQLite\n",
    "- MySQL\n",
    "- PostgreSql\n",
    "- Oracle DB\n",
    "- SQL Server"
   ]
  },
  {
   "cell_type": "markdown",
   "metadata": {
    "slideshow": {
     "slide_type": "subslide"
    }
   },
   "source": [
    "### SQLite\n",
    "\n",
    "- SQLite is a popular open source SQL database. \n",
    "- It can store an entire database in a single file.\n",
    "- It is 'lite' because it is not server based.\n",
    "- Does not have many features of server-based RDBMS like users and permissions.\n",
    "- Great to get up and running quick, not good for complex projects."
   ]
  },
  {
   "cell_type": "markdown",
   "metadata": {
    "slideshow": {
     "slide_type": "subslide"
    }
   },
   "source": [
    "### MySQL\n",
    "\n",
    "- MySQL is the most popular open source SQL database. \n",
    "- It is typically used for web application development, and often accessed using PHP. \n",
    "- It is easy to use, inexpensive, reliable and has a large community of developers who can help answer questions.\n",
    "- Open source development has lagged since Oracle has taken control of MySQL.\n",
    "- Has been known to suffer from poor performance when scaling, \n",
    "- Does not include some advanced features that developers may be used to."
   ]
  },
  {
   "cell_type": "markdown",
   "metadata": {
    "slideshow": {
     "slide_type": "subslide"
    }
   },
   "source": [
    "### PostgreSQL\n",
    "\n",
    "- PostgreSQL is an open-source SQL database that is not controlled by any corporation.\n",
    "- PostgreSQL shares many of the same advantages of MySQL.\n",
    "- It is slower in performance than other databases such as MySQL\n",
    "- Harder to come by hosts or service providers that offer managed PostgreSQL instances. "
   ]
  },
  {
   "cell_type": "markdown",
   "metadata": {
    "slideshow": {
     "slide_type": "subslide"
    }
   },
   "source": [
    "### Oracle DB\n",
    "\n",
    "- Owned by Oracle Corporation, and the code is not open sourced. \n",
    "- Oracle DB is for large applications, particularly in the banking industry. \n",
    "- The main disadvantage of using Oracle is that it is not free."
   ]
  },
  {
   "cell_type": "markdown",
   "metadata": {
    "slideshow": {
     "slide_type": "subslide"
    }
   },
   "source": [
    "### SQL Server\n",
    "\n",
    "- Microsoft owns SQL Server. \n",
    "- Large enterprise applications mostly use SQL Server.\n",
    "- Microsoft offers a free entry-level version called Express but can become very expensive as you scale your application. "
   ]
  },
  {
   "cell_type": "markdown",
   "metadata": {
    "slideshow": {
     "slide_type": "slide"
    }
   },
   "source": [
    "### What are the major parts of a SQL DB?"
   ]
  },
  {
   "cell_type": "markdown",
   "metadata": {
    "slideshow": {
     "slide_type": "fragment"
    }
   },
   "source": [
    "- Schema\n",
    "- Tables\n",
    "- Indexes\n",
    "- Views\n",
    "- Store Procedures\n",
    "- Triggers"
   ]
  },
  {
   "cell_type": "markdown",
   "metadata": {
    "slideshow": {
     "slide_type": "subslide"
    }
   },
   "source": [
    "#### Schema\n",
    "A relational database schema helps you to organize and understand the structure of a database."
   ]
  },
  {
   "cell_type": "markdown",
   "metadata": {
    "slideshow": {
     "slide_type": "fragment"
    }
   },
   "source": [
    "![alt text](employees-schema.png)"
   ]
  },
  {
   "cell_type": "markdown",
   "metadata": {},
   "source": [
    "### Entity-Relationship Model\n",
    "\n",
    "Entity-Relationship (ER) Model is based on the notion of real-world entities and relationships among them. While formulating real-world scenario into the database model, the ER Model creates entity set, relationship set, general attributes and constraints.\n"
   ]
  },
  {
   "cell_type": "markdown",
   "metadata": {
    "slideshow": {
     "slide_type": "subslide"
    }
   },
   "source": [
    "<img src=\"er_model_intro.png\" >"
   ]
  },
  {
   "cell_type": "markdown",
   "metadata": {
    "slideshow": {
     "slide_type": "fragment"
    }
   },
   "source": [
    "**Entity** − An entity in an ER Model is a real-world entity having properties called attributes. Every attribute is defined by its set of values called domain. For example, in a school database, a student is considered as an entity, with various attributes like name, age, class, etc.\n",
    "\n",
    "**Relationship** − The logical association among entities is called relationship. Relationships are mapped with entities in various ways. \n",
    "\n",
    "**Relationship Mappings** −\n",
    "\n",
    "- one to one\n",
    "- one to many\n",
    "- many to one\n",
    "- many to many\n"
   ]
  },
  {
   "cell_type": "markdown",
   "metadata": {
    "slideshow": {
     "slide_type": "subslide"
    }
   },
   "source": [
    "#### Tables\n",
    "Tables are used to store data within the database.  They are its main component and without them, the database would serve little purpose. \n"
   ]
  },
  {
   "cell_type": "markdown",
   "metadata": {
    "slideshow": {
     "slide_type": "fragment"
    }
   },
   "source": [
    "- Tables can have hundreds, thousands, sometimes even millions of rows of data. These rows are often called **records**.\n",
    "- The consists of **columns** of data that are labeled with a descriptive name (say, age for example) and have a specific data type.\n"
   ]
  },
  {
   "cell_type": "markdown",
   "metadata": {
    "slideshow": {
     "slide_type": "subslide"
    }
   },
   "source": [
    "### Indexes\n",
    "Indexes are used to make data retrieval faster. Rather than having to scan an entire table for data, an index allows the database to, directly retrieve the data being asked of it.\n"
   ]
  },
  {
   "cell_type": "markdown",
   "metadata": {
    "slideshow": {
     "slide_type": "fragment"
    }
   },
   "source": [
    "Indexes are primariy created using using a **Primary Key**.\n",
    "A primary key’s main features are:\n",
    "\n",
    "- It must contain a unique value for each row of data.\n",
    "- It cannot contain null values.\n",
    "\n",
    "A primary key is either an existing table column or a column that is specifically generated by the database according to a defined sequence."
   ]
  },
  {
   "cell_type": "markdown",
   "metadata": {
    "slideshow": {
     "slide_type": "subslide"
    }
   },
   "source": [
    "If you were a tax accountant and you wanted to create a database of your clients, which of the following columns who be a good choice for your primary key?\n",
    "\n",
    "- First Name\n",
    "- Last Name\n",
    "- Email Address\n",
    "- SSN\n",
    "- Phone Number"
   ]
  },
  {
   "cell_type": "markdown",
   "metadata": {
    "slideshow": {
     "slide_type": "subslide"
    }
   },
   "source": [
    "### Views \n",
    "\n",
    "Help combat this issue by allowing the database administrator to create “canned” or pre-built queries.\n",
    "\n",
    "Allow you to pull data from multiple tables together without moving or copying the data."
   ]
  },
  {
   "cell_type": "markdown",
   "metadata": {
    "slideshow": {
     "slide_type": "subslide"
    }
   },
   "source": [
    "### Stored Procedures\n",
    "\n",
    "There are many situations where queries alone are insufficient to solve a problem.  In these cases, developers rely on programming languages to process logic, to loop through records, and perform conditional comparisons as required.  These programs can be stored in the SQL database as stored procedures."
   ]
  },
  {
   "cell_type": "markdown",
   "metadata": {
    "slideshow": {
     "slide_type": "subslide"
    }
   },
   "source": [
    "### Triggers\n",
    "\n",
    "Triggers are special instructions that are executed when important events, such as inserting or updating records in a table happen. The most common triggers are Insert, Update, and Delete triggers.  \n",
    "\n",
    "Two items define a trigger on a table: a stored procedure and an event, such as inserting a record that invokes its execution."
   ]
  },
  {
   "cell_type": "markdown",
   "metadata": {
    "slideshow": {
     "slide_type": "slide"
    }
   },
   "source": [
    "## Working With SQLite"
   ]
  },
  {
   "cell_type": "markdown",
   "metadata": {
    "slideshow": {
     "slide_type": "subslide"
    }
   },
   "source": [
    "SQLite comes standard with Python so all you need to do to get it set up is write:\n",
    "\n",
    "`import sqlite3`"
   ]
  },
  {
   "cell_type": "markdown",
   "metadata": {
    "slideshow": {
     "slide_type": "fragment"
    }
   },
   "source": [
    "There are specific python modules that you can use to work with SQL dbs depending on the DB.\n",
    "\n",
    "- Microsoft SQL = pymssql\n",
    "- Postgres = psycopg2\n",
    "- MySQLdb = MySQLDB"
   ]
  },
  {
   "cell_type": "markdown",
   "metadata": {
    "slideshow": {
     "slide_type": "subslide"
    }
   },
   "source": [
    "### Creating a Connection\n",
    "\n",
    "Before you can do anything with your DB, you must first create a connection with it. For DBs that are server based, this can be more coplicated requiring you to know the server ip, a username, password database name, and port. \n",
    "``` python \n",
    "import MySQLdb\n",
    "conn = MySQLdb.connect(host=host, user=user, passwd=passwd, db=db)\n",
    "```"
   ]
  },
  {
   "cell_type": "markdown",
   "metadata": {
    "slideshow": {
     "slide_type": "subslide"
    }
   },
   "source": [
    "For SQLite, this is much easier because you just need to access the flat file where the DB is stored. "
   ]
  },
  {
   "cell_type": "code",
   "execution_count": 1,
   "metadata": {
    "slideshow": {
     "slide_type": "fragment"
    }
   },
   "outputs": [],
   "source": [
    "import sqlite3\n",
    "\n",
    "conn = sqlite3.connect('tutorial.db')\n"
   ]
  },
  {
   "cell_type": "markdown",
   "metadata": {
    "slideshow": {
     "slide_type": "subslide"
    }
   },
   "source": [
    "#### Cursor\n",
    "This temporary work area is used to store the data retrieved from the database, and manipulate this data. \n",
    "\n",
    "A cursor can hold more than one row, but can process only one row at a time. \n",
    "\n",
    "The set of rows the cursor holds is called the active set."
   ]
  },
  {
   "cell_type": "code",
   "execution_count": 2,
   "metadata": {
    "slideshow": {
     "slide_type": "fragment"
    }
   },
   "outputs": [],
   "source": [
    "c = conn.cursor()"
   ]
  },
  {
   "cell_type": "markdown",
   "metadata": {
    "slideshow": {
     "slide_type": "subslide"
    }
   },
   "source": [
    "#### Create a Table\n",
    "Now that we have a connection and a cursor, lets create a table."
   ]
  },
  {
   "cell_type": "markdown",
   "metadata": {},
   "source": [
    "#### SQLite Data Types\n",
    "\n",
    "Any column declared in an SQLite database is assigned a type affinity depending on it declared data type. Here the list of type affinities in SQLite:\n",
    "\n",
    "- TEXT\n",
    "- NUMERIC\n",
    "- INTEGER\n",
    "- REAL\n",
    "- BLOB"
   ]
  },
  {
   "cell_type": "markdown",
   "metadata": {
    "slideshow": {
     "slide_type": "fragment"
    }
   },
   "source": [
    "However, you still can store any type of data as you wish, these types are recommended not required.\n",
    "\n",
    "These types were introduced in SQLite to maximize the compatibility between SQLite and other database management system."
   ]
  },
  {
   "cell_type": "markdown",
   "metadata": {
    "slideshow": {
     "slide_type": "subslide"
    }
   },
   "source": [
    "<img src=\"SQLlite_datatype.jpg\" width=450/>"
   ]
  },
  {
   "cell_type": "code",
   "execution_count": null,
   "metadata": {},
   "outputs": [],
   "source": [
    "create_query = \"\"\"CREATE TABLE IF NOT EXISTS stuffToPlot\n",
    "        (unix REAL, datestamp TEXT, keyword TEXT, value REAL)\"\"\"\n",
    "def create_table(query):\n",
    "    c.execute(query)\n"
   ]
  },
  {
   "cell_type": "code",
   "execution_count": null,
   "metadata": {},
   "outputs": [],
   "source": [
    "insert_query = \"\"\"INSERT INTO stuffToPlot VALUES\n",
    "                (1452549219,'2016-01-11 13:53:39','Python',6)\"\"\"\n",
    "def data_entry(query):\n",
    "    c.execute(query)\n",
    "\n",
    "    conn.commit()\n",
    "    \n",
    "def close_c_conn():\n",
    "    c.close()\n",
    "    conn.close()\n",
    "    "
   ]
  },
  {
   "cell_type": "code",
   "execution_count": null,
   "metadata": {
    "slideshow": {
     "slide_type": "fragment"
    }
   },
   "outputs": [],
   "source": [
    "create_table(create_query)\n",
    "data_entry(insert_query)\n",
    "\n",
    "close_c_conn()"
   ]
  },
  {
   "cell_type": "markdown",
   "metadata": {
    "slideshow": {
     "slide_type": "subslide"
    }
   },
   "source": [
    "#### Inserting Data dynamically"
   ]
  },
  {
   "cell_type": "code",
   "execution_count": null,
   "metadata": {
    "slideshow": {
     "slide_type": "fragment"
    }
   },
   "outputs": [],
   "source": [
    "import time\n",
    "import datetime\n",
    "import random"
   ]
  },
  {
   "cell_type": "code",
   "execution_count": null,
   "metadata": {},
   "outputs": [],
   "source": [
    "conn = sqlite3.connect('tutorial.db')\n",
    "c = conn.cursor()"
   ]
  },
  {
   "cell_type": "code",
   "execution_count": null,
   "metadata": {
    "slideshow": {
     "slide_type": "subslide"
    }
   },
   "outputs": [],
   "source": [
    "def dynamic_data_entry():\n",
    "\n",
    "    unix = int(time.time())\n",
    "    date = str(datetime.datetime.fromtimestamp(unix).strftime('%Y-%m-%d %H:%M:%S'))\n",
    "    keyword = 'Python'\n",
    "    value = random.randrange(0,10)\n",
    "\n",
    "    c.execute(\"INSERT INTO stuffToPlot (unix, datestamp, keyword, value) VALUES (?, ?, ?, ?)\",\n",
    "          (unix, date, keyword, value))\n",
    "\n",
    "    conn.commit()"
   ]
  },
  {
   "cell_type": "code",
   "execution_count": null,
   "metadata": {
    "slideshow": {
     "slide_type": "fragment"
    }
   },
   "outputs": [],
   "source": [
    "for i in range(10):\n",
    "    dynamic_data_entry()\n",
    "    time.sleep(1)\n",
    "\n",
    "# c.close\n",
    "# conn.close()"
   ]
  },
  {
   "cell_type": "markdown",
   "metadata": {
    "slideshow": {
     "slide_type": "subslide"
    }
   },
   "source": [
    "We can also write a query that reads from the DB"
   ]
  },
  {
   "cell_type": "code",
   "execution_count": null,
   "metadata": {
    "slideshow": {
     "slide_type": "fragment"
    }
   },
   "outputs": [],
   "source": [
    "def read_from_db():\n",
    "    c.execute('SELECT * FROM stuffToPlot')\n",
    "    data = c.fetchall()\n",
    "    print(data)\n",
    "    for row in data:\n",
    "        print(row)\n",
    "\n",
    "read_from_db()"
   ]
  },
  {
   "cell_type": "markdown",
   "metadata": {
    "slideshow": {
     "slide_type": "subslide"
    }
   },
   "source": [
    "We can also read a table straight into a pandas DF."
   ]
  },
  {
   "cell_type": "code",
   "execution_count": null,
   "metadata": {
    "slideshow": {
     "slide_type": "fragment"
    }
   },
   "outputs": [],
   "source": [
    "import pandas as pd\n",
    "pd.read_sql_query(\"select * from stuffToPlot;\", conn)\n"
   ]
  },
  {
   "cell_type": "markdown",
   "metadata": {
    "slideshow": {
     "slide_type": "subslide"
    }
   },
   "source": [
    "And we can create a DB table directly from a pandas DF."
   ]
  },
  {
   "cell_type": "code",
   "execution_count": null,
   "metadata": {},
   "outputs": [],
   "source": [
    "cities = pd.read_csv('cities.csv')\n",
    "cities.head()"
   ]
  },
  {
   "cell_type": "code",
   "execution_count": null,
   "metadata": {
    "slideshow": {
     "slide_type": "fragment"
    }
   },
   "outputs": [],
   "source": [
    "cities.to_sql(\"cities\", conn, if_exists=\"replace\")\n"
   ]
  },
  {
   "cell_type": "code",
   "execution_count": null,
   "metadata": {},
   "outputs": [],
   "source": [
    "def read_from_db():\n",
    "    c.execute('SELECT * FROM cities LIMIT 10')\n",
    "    data = c.fetchall()\n",
    "    print(data)\n",
    "    for row in data:\n",
    "        print(row)\n",
    "\n",
    "read_from_db()"
   ]
  },
  {
   "cell_type": "markdown",
   "metadata": {},
   "source": [
    "### Your Turn\n",
    "\n",
    "In the zip folder you have a json file with informationa bout all of the students in this class.  \n",
    "- Read in the JSON file\n",
    "- Examine data in file\n",
    "- Create a table for the data\n",
    "- Create a function to insert each data entry dynamically\n",
    "- Insert Data\n",
    "- Write queries to answer the following questions"
   ]
  },
  {
   "cell_type": "code",
   "execution_count": 3,
   "metadata": {},
   "outputs": [],
   "source": [
    "#your code here\n",
    "import json\n",
    "f=open('students.json','r')\n",
    "data=json.load(f)"
   ]
  },
  {
   "cell_type": "code",
   "execution_count": 4,
   "metadata": {
    "collapsed": true
   },
   "outputs": [
    {
     "data": {
      "text/plain": [
       "[{'name': 'Sean Abu Wilson',\n",
       "  'birthdate': '02/06',\n",
       "  'siblings': 2,\n",
       "  'Birthplace': 'Birmingham, AL',\n",
       "  'yearsinnyc': 7.6,\n",
       "  'favoritefood': 'guacamole'},\n",
       " {'name': 'David Miller',\n",
       "  'birthdate': '06/06',\n",
       "  'siblings': 2,\n",
       "  'Birthplace': 'New York, NY',\n",
       "  'yearsinnyc': 25.75,\n",
       "  'favoritefood': 'pizza'},\n",
       " {'name': 'Abhijeet Kamble',\n",
       "  'birthdate': '05/07',\n",
       "  'siblings': 0,\n",
       "  'Birthplace': 'Wardha India',\n",
       "  'yearsinnyc': 0.5,\n",
       "  'favoritefood': 'Biriyani'},\n",
       " {'name': 'Samantha Jackson',\n",
       "  'birthdate': '08/04',\n",
       "  'siblings': 2,\n",
       "  'Birthplace': 'Newport, RI',\n",
       "  'yearsinnyc': 12.5,\n",
       "  'favoritefood': 'chocolate chip cookies'},\n",
       " {'name': 'Anmol Srivats',\n",
       "  'birthdate': '11/19',\n",
       "  'siblings': 0,\n",
       "  'Birthplace': 'Bangalore, India',\n",
       "  'yearsinnyc': 0.05,\n",
       "  'favoritefood': 'Sushi'},\n",
       " {'name': 'Ran Tokman',\n",
       "  'birthdate': '03/19',\n",
       "  'siblings': 2,\n",
       "  'Birthplace': 'Haifa, Israel',\n",
       "  'yearsinnyc': 8,\n",
       "  'favoritefood': 'cheesecake'},\n",
       " {'name': 'Amy Li',\n",
       "  'birthdate': '12/29',\n",
       "  'siblings': 1,\n",
       "  'Birthplace': 'New York, NY',\n",
       "  'yearsinnyc': 18,\n",
       "  'favoritefood': 'dumplings'},\n",
       " {'name': 'Florencia Leoni',\n",
       "  'birthdate': '06/07',\n",
       "  'siblings': 4,\n",
       "  'Birthplace': 'Caracas, Venezuela',\n",
       "  'yearsinnyc': 1.2,\n",
       "  'favoritefood': 'steak'},\n",
       " {'name': 'Austin Krause',\n",
       "  'birthdate': '10/22',\n",
       "  'siblings': 1,\n",
       "  'Birthplace': 'Lansing, MI',\n",
       "  'yearsinnyc': 0.17,\n",
       "  'favoritefood': 'Everything Bagels'},\n",
       " {'name': 'Natalie Overchuk',\n",
       "  'birthdate': '01/02',\n",
       "  'siblings': 2,\n",
       "  'Birthplace': 'Kiev, Ukraine',\n",
       "  'yearsinnyc': 0.1,\n",
       "  'favoritefood': 'pasta'},\n",
       " {'name': 'Akshay Sharma',\n",
       "  'birthdate': '04/30',\n",
       "  'siblings': 2,\n",
       "  'Birthplace': 'New York, NY',\n",
       "  'yearsinnyc': 24,\n",
       "  'favoritefood': 'pizza'},\n",
       " {'name': 'Mohamad Eldebek',\n",
       "  'birthdate': '01/21',\n",
       "  'siblings': 4,\n",
       "  'Birthplace': 'Beirut, Leb',\n",
       "  'yearsinnyc': 17,\n",
       "  'favoritefood': 'Tabouleh'},\n",
       " {'name': 'Adam Dick',\n",
       "  'birthdate': '05/06',\n",
       "  'siblings': 0,\n",
       "  'Birthplace': 'New York, NY',\n",
       "  'yearsinnyc': 30,\n",
       "  'favoritefood': 'noodles'},\n",
       " {'name': 'Menachi Korn',\n",
       "  'birthdate': '04/11',\n",
       "  'siblings': 4,\n",
       "  'Birthplace': 'Denville, N.J.',\n",
       "  'yearsinnyc': 18,\n",
       "  'favoritefood': 'falafel'},\n",
       " {'name': 'Miguel Peña',\n",
       "  'birthdate': '08/14',\n",
       "  'siblings': 4,\n",
       "  'Birthplace': 'Lima, Peru',\n",
       "  'yearsinnyc': 8,\n",
       "  'favoritefood': 'rice'},\n",
       " {'name': 'Atiar Rahman',\n",
       "  'birthdate': '02/21',\n",
       "  'siblings': 2,\n",
       "  'Birthplace': 'Bangladesh',\n",
       "  'yearsinnyc': 22,\n",
       "  'favoritefood': 'Reeses Puffs'},\n",
       " {'name': 'Fhel Dimaano',\n",
       "  'birthdate': '08/20',\n",
       "  'siblings': 1,\n",
       "  'Birthplace': 'Manila, Philippines',\n",
       "  'yearsinnyc': 30,\n",
       "  'favoritefood': 'Kare Kare'},\n",
       " {'name': 'Maks Pazuniak',\n",
       "  'birthdate': '12/19',\n",
       "  'siblings': 2,\n",
       "  'Birthplace': 'Wilmington, DE',\n",
       "  'yearsinnyc': 15,\n",
       "  'favoritefood': 'pho'},\n",
       " {'name': 'Alex Mitrani',\n",
       "  'birthdate': '12/06',\n",
       "  'siblings': 1,\n",
       "  'Birthplace': 'New York, NY',\n",
       "  'yearsinnyc': 28,\n",
       "  'favoritefood': 'Fusilli Sorrentina'},\n",
       " {'name': 'Yish Lim',\n",
       "  'birthdate': '11/21',\n",
       "  'siblings': 2,\n",
       "  'Birthplace': 'Singapore',\n",
       "  'yearsinnyc': 5,\n",
       "  'favoritefood': 'burgers'},\n",
       " {'name': 'Nicole Roach',\n",
       "  'birthdate': '06/16',\n",
       "  'siblings': 1,\n",
       "  'Birthplace': 'Brooklyn, NY',\n",
       "  'yearsinnyc': 18,\n",
       "  'favoritefood': 'steak'},\n",
       " {'name': 'Omer Hakim',\n",
       "  'birthdate': '04/30',\n",
       "  'siblings': 3,\n",
       "  'Birthplace': 'Haifa, Israel',\n",
       "  'yearsinnyc': 3.5,\n",
       "  'favoritefood': 'Avocado'}]"
      ]
     },
     "execution_count": 4,
     "metadata": {},
     "output_type": "execute_result"
    }
   ],
   "source": [
    "data"
   ]
  },
  {
   "cell_type": "code",
   "execution_count": 6,
   "metadata": {},
   "outputs": [],
   "source": [
    "import sqlite3\n",
    "\n",
    "conn = sqlite3.connect('tutorial.db')\n",
    "c = conn.cursor()"
   ]
  },
  {
   "cell_type": "code",
   "execution_count": 8,
   "metadata": {},
   "outputs": [
    {
     "ename": "OperationalError",
     "evalue": "table students already exists",
     "output_type": "error",
     "traceback": [
      "\u001b[0;31m---------------------------------------------------------------------------\u001b[0m",
      "\u001b[0;31mOperationalError\u001b[0m                          Traceback (most recent call last)",
      "\u001b[0;32m<ipython-input-8-c680d32c72e6>\u001b[0m in \u001b[0;36m<module>\u001b[0;34m\u001b[0m\n\u001b[1;32m      9\u001b[0m \u001b[0mfavorite_food\u001b[0m \u001b[0mTEXT\u001b[0m\u001b[0;34m\u001b[0m\u001b[0;34m\u001b[0m\u001b[0m\n\u001b[1;32m     10\u001b[0m );\n\u001b[0;32m---> 11\u001b[0;31m ''')\n\u001b[0m\u001b[1;32m     12\u001b[0m \u001b[0;34m\u001b[0m\u001b[0m\n\u001b[1;32m     13\u001b[0m \u001b[0mc\u001b[0m\u001b[0;34m.\u001b[0m\u001b[0mcommit\u001b[0m\u001b[0;34m(\u001b[0m\u001b[0;34m)\u001b[0m\u001b[0;34m\u001b[0m\u001b[0;34m\u001b[0m\u001b[0m\n",
      "\u001b[0;31mOperationalError\u001b[0m: table students already exists"
     ]
    }
   ],
   "source": [
    "\n",
    "c.execute('''\n",
    "CREATE TABLE students(\n",
    "name TEXT,\n",
    "birthdate TEXT,\n",
    "siblings INTEGER,\n",
    "birth_place TEXT,\n",
    "years_in_nyc REAL,\n",
    "favorite_food TEXT\n",
    ");\n",
    "''')\n",
    "\n",
    "c.commit()"
   ]
  },
  {
   "cell_type": "code",
   "execution_count": 13,
   "metadata": {},
   "outputs": [],
   "source": [
    "conn.commit()"
   ]
  },
  {
   "cell_type": "code",
   "execution_count": null,
   "metadata": {},
   "outputs": [],
   "source": [
    "def insert_data(i):"
   ]
  },
  {
   "cell_type": "code",
   "execution_count": 12,
   "metadata": {},
   "outputs": [],
   "source": [
    "for i in data:\n",
    "  c.execute('''INSERT INTO students\n",
    "  (name, birthdate, siblings, birth_place, years_in_nyc, favorite_food) VALUES (?, ?, ?, ? , ? , ? )''',\n",
    "     (i['name'],i['birthdate'], i['siblings'], i['Birthplace'], i['yearsinnyc'], i['favoritefood']))"
   ]
  },
  {
   "cell_type": "code",
   "execution_count": null,
   "metadata": {},
   "outputs": [],
   "source": [
    "content_file:\n",
    "    raw = json.load(content_file)\n",
    "    records = []\n",
    "    \n",
    "    for line in content_file:\n",
    "        jo = line\n",
    "        record = (jo.get('name'), jo.get('birthdate'), jo.get('siblings'), jo.get('Birthplace'), jo.get('yearsinnyc'), jo.get('favoritefood'))\n",
    "        records.append(record)\n",
    "\n",
    "    try:\n",
    "        conn = sqlite3.connect(\"students\")\n",
    "        c = conn.cursor()\n",
    "        c.executemany(\"INSERT INTO students VALUES (?, ?, ?, ?, ?, ?,?)\", records)\n",
    "        conn.commit()\n",
    "#         conn.close()\n",
    "    except:\n",
    "        # TODO: logging here\n",
    "        raise\n",
    "\n",
    "print(\"Finished Processing\")"
   ]
  },
  {
   "cell_type": "markdown",
   "metadata": {},
   "source": [
    "### Questions\n",
    "1. Which student was born closest to the cohort's graduation date?\n",
    "2. Which student has the most siblings?\n",
    "3. How many students are only children?\n",
    "4. Which 3 students have lived in NYC the shortest amount of time?\n",
    "5. How many students are native New Yorkers?\n",
    "5. Do any two students have the same favorite food?"
   ]
  },
  {
   "cell_type": "code",
   "execution_count": 16,
   "metadata": {},
   "outputs": [
    {
     "data": {
      "text/plain": [
       "[('Florencia Leoni', 4),\n",
       " ('Mohamad Eldebek', 4),\n",
       " ('Menachi Korn', 4),\n",
       " ('Miguel Peña', 4)]"
      ]
     },
     "execution_count": 16,
     "metadata": {},
     "output_type": "execute_result"
    }
   ],
   "source": [
    "c.execute(\"\"\"SELECT name, siblings \n",
    "FROM students \n",
    "WHERE siblings = (SELECT MAX(siblings) FROM students);\"\"\").fetchall()"
   ]
  },
  {
   "cell_type": "code",
   "execution_count": 22,
   "metadata": {},
   "outputs": [
    {
     "data": {
      "text/plain": [
       "(3,)"
      ]
     },
     "execution_count": 22,
     "metadata": {},
     "output_type": "execute_result"
    }
   ],
   "source": [
    "c.execute(\"\"\"SELECT COUNT(name)\n",
    "FROM students \n",
    "WHERE siblings = 0;\"\"\").fetchone()"
   ]
  },
  {
   "cell_type": "code",
   "execution_count": 24,
   "metadata": {},
   "outputs": [
    {
     "data": {
      "text/plain": [
       "[('pizza', 2), ('steak', 2)]"
      ]
     },
     "execution_count": 24,
     "metadata": {},
     "output_type": "execute_result"
    }
   ],
   "source": [
    "c.execute(\"\"\"SELECT favorite_food, count(favorite_food)\n",
    "FROM students\n",
    "GROUP BY favorite_food\n",
    "HAVING count(favorite_food) > 1\n",
    "\"\"\").fetchall()"
   ]
  },
  {
   "cell_type": "code",
   "execution_count": 26,
   "metadata": {},
   "outputs": [
    {
     "data": {
      "text/plain": [
       "[('David Miller', 'New York, NY'),\n",
       " ('Amy Li', 'New York, NY'),\n",
       " ('Akshay Sharma', 'New York, NY'),\n",
       " ('Adam Dick', 'New York, NY'),\n",
       " ('Alex Mitrani', 'New York, NY'),\n",
       " ('Nicole Roach', 'Brooklyn, NY')]"
      ]
     },
     "execution_count": 26,
     "metadata": {},
     "output_type": "execute_result"
    }
   ],
   "source": [
    "c.execute('''select  name, birth_place from Students where birth_place like '%NY' ''').fetchall()"
   ]
  },
  {
   "cell_type": "code",
   "execution_count": 27,
   "metadata": {},
   "outputs": [
    {
     "data": {
      "text/plain": [
       "[('Nicole Roach', 5.0)]"
      ]
     },
     "execution_count": 27,
     "metadata": {},
     "output_type": "execute_result"
    }
   ],
   "source": [
    "c.execute('''\n",
    "SELECT name, \n",
    "abs(julianday('2018' || '-' || substr(birthdate,1,2) || '-' || substr(birthdate,4,2)) - \n",
    "julianday('2018-06-21')) \n",
    "AS Days_From_Graduation\n",
    "FROM students\n",
    "ORDER BY 2\n",
    "LIMIT 1\n",
    "''').fetchall()"
   ]
  },
  {
   "cell_type": "code",
   "execution_count": 28,
   "metadata": {},
   "outputs": [
    {
     "data": {
      "text/plain": [
       "[('Nicole Roach', '06.16', 0.04999999999999982)]"
      ]
     },
     "execution_count": 28,
     "metadata": {},
     "output_type": "execute_result"
    }
   ],
   "source": [
    "c.execute(\"\"\"UPDATE students set birthdate = replace(birthdate, '/','.') ;\"\"\")\n",
    "c.execute(\"\"\"SELECT name,birthdate,min(abs(birthdate - 6.21)) from students;\"\"\").fetchall()"
   ]
  },
  {
   "cell_type": "code",
   "execution_count": null,
   "metadata": {},
   "outputs": [],
   "source": []
  }
 ],
 "metadata": {
  "celltoolbar": "Slideshow",
  "kernelspec": {
   "display_name": "Python 3",
   "language": "python",
   "name": "python3"
  },
  "language_info": {
   "codemirror_mode": {
    "name": "ipython",
    "version": 3
   },
   "file_extension": ".py",
   "mimetype": "text/x-python",
   "name": "python",
   "nbconvert_exporter": "python",
   "pygments_lexer": "ipython3",
   "version": "3.6.8"
  }
 },
 "nbformat": 4,
 "nbformat_minor": 2
}
