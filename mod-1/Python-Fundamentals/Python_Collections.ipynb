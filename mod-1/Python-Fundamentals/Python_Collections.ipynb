{
 "cells": [
  {
   "cell_type": "markdown",
   "metadata": {},
   "source": [
    "## Getting Started:\n",
    "\n",
    "Below are many examples of different data structures. Identify which is a list, dictionary, and tuple.\n",
    "\n",
    "```python\n",
    "days_in_months = {'January': 31,\n",
    "         'February': 28,\n",
    "         'March': 31}\n",
    "\n",
    "months = ('January', 'February', 'March', 'April')\n",
    "\n",
    "holidays = {'January': [\"New Year's Day\",\"President's Day\", \"MLK DAY\"],\n",
    "             'February':[\"Washington's Birthaday\"],\n",
    "             'March' : []}\n",
    "\n",
    "end_of_month = ['01/31/2019', '02/28/2019', '03/31/2019']\n",
    "```\n"
   ]
  },
  {
   "cell_type": "markdown",
   "metadata": {},
   "source": [
    "# Python Collections"
   ]
  },
  {
   "cell_type": "markdown",
   "metadata": {},
   "source": [
    "### Aims\n",
    "- Understand the different data structures\n",
    "- Differentiate when they should utilize each structure depending on the data and the goals\n",
    "- Write a python script that can parse data from one data structure into another one"
   ]
  },
  {
   "cell_type": "markdown",
   "metadata": {},
   "source": [
    "### Agenda\n",
    "- Review Types of Collections\n",
    "- Work with each type of collection\n",
    "- Create a script to parse a collection"
   ]
  },
  {
   "cell_type": "markdown",
   "metadata": {},
   "source": [
    "## Types of Collections \n",
    "- **List** is a collection which is ordered and mutable. Allows duplicate members.\n",
    "\n",
    "\n",
    "- **Tuple** is a collection which is ordered and immutable. Allows duplicate members.\n",
    "\n",
    "\n",
    "- **Set** is a collection which is unordered and unindexed. No duplicate members.\n",
    "\n",
    "\n",
    "- **Dictionary** is a collection which is unordered, mutable and indexed. No duplicate members."
   ]
  },
  {
   "cell_type": "markdown",
   "metadata": {},
   "source": [
    "**Imagine you are creating a multiple choice test for a class and you want to store information about the test. Identify which would be the appropriate collection type for each of the following collections.**\n",
    "\n",
    "1. A collection fo the possible answers, which will always be A, B, C, D, E.\n",
    "\n",
    "\n",
    "2. A collection of the questions and the possible choices/answers:\n",
    " Which of the following is the largestof the Great Lakes? \n",
    "  * Lake Superior\n",
    "  * Lake Huron\n",
    "  * Lake Michigan\n",
    "  * Lake Ontario\n",
    "  * Lake Erie\n",
    "\n",
    "\n",
    "3. A collection of all the students who will take the test. "
   ]
  },
  {
   "cell_type": "markdown",
   "metadata": {},
   "source": [
    "### Creating a list\n",
    "\n",
    "You create a list by using brackets.\n"
   ]
  },
  {
   "cell_type": "code",
   "execution_count": 10,
   "metadata": {},
   "outputs": [],
   "source": [
    "x = 'a variable'\n",
    "\n",
    "students_list = ['Jaime', 'Andrew', 'Diylan', 'Samira', 'Audrey']\n",
    "\n",
    "answers = ['List', True, 'A', 3 ]\n",
    "\n",
    "list_of_lists = [['a','b', 'c'], [1,2,3], [students_list, answers, x]]"
   ]
  },
  {
   "cell_type": "markdown",
   "metadata": {},
   "source": [
    "### Working with a list\n",
    "\n",
    "Lists are indexed which means you can access the list items by referring to the index number."
   ]
  },
  {
   "cell_type": "code",
   "execution_count": 2,
   "metadata": {},
   "outputs": [
    {
     "name": "stdout",
     "output_type": "stream",
     "text": [
      "Jaime\n",
      "3\n",
      "['Diylan', 'Samira']\n",
      "['Jaime', 'Andrew', 'Diylan']\n"
     ]
    }
   ],
   "source": [
    "print(students_list[0])\n",
    "\n",
    "# By putting a negative sign in front it will start countin from the end.\n",
    "print(answers[-1])\n",
    "\n",
    "# You can take slices of the list by using a colon\n",
    "print(students_list[2:4])\n",
    "print(students_list[:3])\n"
   ]
  },
  {
   "cell_type": "markdown",
   "metadata": {},
   "source": [
    "### Altering a list"
   ]
  },
  {
   "cell_type": "code",
   "execution_count": 3,
   "metadata": {},
   "outputs": [
    {
     "name": "stdout",
     "output_type": "stream",
     "text": [
      "['List', False, 'A', 3]\n",
      "['List', False, 'A', 3, True]\n",
      "['List', False, 'A', 3]\n",
      "['List', False, 'A']\n"
     ]
    }
   ],
   "source": [
    "# you can change the list multiple ways\n",
    "\n",
    "# you can change a specific item of the list\n",
    "answers[1] = False\n",
    "print(answers)\n",
    "\n",
    "# you can add on to the list\n",
    "answers.append(True)\n",
    "print(answers)\n",
    "\n",
    "# you can delete a part using the index\n",
    "del answers[-1]\n",
    "print(answers)\n",
    "\n",
    "# you can pop off the last part of a list\n",
    "\n",
    "answers.pop()\n",
    "print(answers)"
   ]
  },
  {
   "cell_type": "markdown",
   "metadata": {},
   "source": [
    "### Creating a Tuple\n",
    "You create a tuple by using parentheses.\n"
   ]
  },
  {
   "cell_type": "code",
   "execution_count": 8,
   "metadata": {},
   "outputs": [],
   "source": [
    "mod_tuple = ('Mod 1', 'Mod 2', 'Mod 3', 'Mod 4', 'Mod 5')"
   ]
  },
  {
   "cell_type": "markdown",
   "metadata": {},
   "source": [
    "### Working with Tuples\n",
    "Tuples are also indexed so you can access parts of a tupe just like you would a list"
   ]
  },
  {
   "cell_type": "markdown",
   "metadata": {},
   "source": [
    "### Creating a Dictionary\n",
    "You create a dictionary by using curly brackets and they have keys and values.\n"
   ]
  },
  {
   "cell_type": "code",
   "execution_count": 4,
   "metadata": {},
   "outputs": [],
   "source": [
    "answers_dict = {1:'B', 2: 'A', 3:'C', 4:'A'}"
   ]
  },
  {
   "cell_type": "markdown",
   "metadata": {},
   "source": [
    "The values can be any data type or collection inculding another dictionary."
   ]
  },
  {
   "cell_type": "code",
   "execution_count": 6,
   "metadata": {},
   "outputs": [],
   "source": [
    "questions = {'A': {'question': 'How many people can fit in a Corvette?',\n",
    "                          'possible answers': [1,2,3,4],\n",
    "                            'correct answer': 2},\n",
    "             'B': {'question': 'What is the MPG of a Corvette?',\n",
    "                  'possible answers': [15,20, 25, 30],\n",
    "                    'correct answer': 15},\n",
    "             'C': {'question': 'How much horsepower does a Corvette have?',\n",
    "                  'possible answers': [200,300, 400, 500],\n",
    "                    'correct answer': 400}}"
   ]
  },
  {
   "cell_type": "markdown",
   "metadata": {},
   "source": [
    "### Working With Dictionaries"
   ]
  },
  {
   "cell_type": "markdown",
   "metadata": {},
   "source": [
    "You can explore the structure of a dictionary using the builtin `.keys()` and `.values()` methods."
   ]
  },
  {
   "cell_type": "code",
   "execution_count": 7,
   "metadata": {},
   "outputs": [
    {
     "name": "stdout",
     "output_type": "stream",
     "text": [
      "dict_keys([1, 2, 3, 4])\n",
      "dict_values(['B', 'A', 'C', 'A'])\n"
     ]
    }
   ],
   "source": [
    "print(answers_dict.keys())\n",
    "print(answers_dict.values())"
   ]
  },
  {
   "cell_type": "code",
   "execution_count": 7,
   "metadata": {},
   "outputs": [
    {
     "name": "stdout",
     "output_type": "stream",
     "text": [
      "B\n",
      "What is the MPG of a Corvette?\n"
     ]
    }
   ],
   "source": [
    "print(answers_dict[1])\n",
    "\n",
    "print(questions['B']['question'])"
   ]
  },
  {
   "cell_type": "markdown",
   "metadata": {},
   "source": [
    "### Questions:\n",
    "\n",
    "- What is the second item of the mod_tuple?\n",
    "- How man items are in the lists_of_lists?\n",
    "- What are the possible answers to question A in the questions dictionary?\n"
   ]
  },
  {
   "cell_type": "code",
   "execution_count": 11,
   "metadata": {},
   "outputs": [
    {
     "name": "stdout",
     "output_type": "stream",
     "text": [
      "Mod 2\n",
      "3\n",
      "[1, 2, 3, 4]\n"
     ]
    }
   ],
   "source": [
    "# answer the question here\n",
    "print(mod_tuple[1])\n",
    "print(len(list_of_lists))\n",
    "print(questions['A']['possible answers'])"
   ]
  },
  {
   "cell_type": "markdown",
   "metadata": {},
   "source": [
    "### Looping through Dictionaries"
   ]
  },
  {
   "cell_type": "code",
   "execution_count": 10,
   "metadata": {},
   "outputs": [
    {
     "name": "stdout",
     "output_type": "stream",
     "text": [
      "['How many people can fit in a Corvette?', 'What is the MPG of a Corvette?', 'How much horsepower does a Corvette have?']\n"
     ]
    }
   ],
   "source": [
    "list_of_questions = []\n",
    "for v in questions.values():\n",
    "    list_of_questions.append(v['question'])\n",
    "print(list_of_questions)"
   ]
  },
  {
   "cell_type": "code",
   "execution_count": 13,
   "metadata": {},
   "outputs": [
    {
     "name": "stdout",
     "output_type": "stream",
     "text": [
      "A\n",
      "{'question': 'How many people can fit in a Corvette?', 'possible answers': [1, 2, 3, 4], 'correct answer': 2}\n",
      "B\n",
      "{'question': 'What is the MPG of a Corvette?', 'possible answers': [15, 20, 25, 30], 'correct answer': 15}\n",
      "C\n",
      "{'question': 'How much horsepower does a Corvette have?', 'possible answers': [200, 300, 400, 500], 'correct answer': 400}\n",
      "['How many people can fit in a Corvette?', 'What is the MPG of a Corvette?', 'How much horsepower does a Corvette have?']\n"
     ]
    }
   ],
   "source": [
    "list_of_questions = []\n",
    "for k in questions.keys():\n",
    "    print(k)\n",
    "    print(questions[k])\n",
    "    list_of_questions.append(questions[k]['question'])\n",
    "print(list_of_questions)"
   ]
  },
  {
   "cell_type": "code",
   "execution_count": 11,
   "metadata": {},
   "outputs": [
    {
     "name": "stdout",
     "output_type": "stream",
     "text": [
      "[(1, 2, 3, 4), (15, 20, 25, 30), (200, 300, 400, 500)]\n"
     ]
    }
   ],
   "source": [
    "list_of_answers = []\n",
    "for v in questions.values():\n",
    "    list_of_answers.append(tuple(v['possible answers']))\n",
    "\n",
    "print(list_of_answers)"
   ]
  },
  {
   "cell_type": "code",
   "execution_count": 12,
   "metadata": {},
   "outputs": [
    {
     "name": "stdout",
     "output_type": "stream",
     "text": [
      "key =  A \n",
      " value= {'question': 'How many people can fit in a Corvette?', 'possible answers': [1, 2, 3, 4], 'correct answer': 2}\n",
      "key =  B \n",
      " value= {'question': 'What is the MPG of a Corvette?', 'possible answers': [15, 20, 25, 30], 'correct answer': 15}\n",
      "key =  C \n",
      " value= {'question': 'How much horsepower does a Corvette have?', 'possible answers': [200, 300, 400, 500], 'correct answer': 400}\n"
     ]
    }
   ],
   "source": [
    "for k,v in questions.items():\n",
    "    print('key = ',k, \"\\n\",\"value=\",v)"
   ]
  },
  {
   "cell_type": "markdown",
   "metadata": {},
   "source": [
    "### Your Turn"
   ]
  },
  {
   "cell_type": "markdown",
   "metadata": {},
   "source": [
    "Look at the information you have about your instructors below and determine what should be the ideal datat structure.\n",
    "The write a script that will parse this data into the new structure."
   ]
  },
  {
   "cell_type": "code",
   "execution_count": 14,
   "metadata": {},
   "outputs": [],
   "source": [
    "Instructors = [['Sean Abu Wilson',\n",
    "                '02/06/1985',\n",
    "                ['Rod Woodson', 'Shirley Temple', 'Megaphone'],\n",
    "                ['NBA', 'Justice Reform', 'Twitter', 'Fitness']],\n",
    "               ['Forest Polchow',\n",
    "                '10/19/1992',\n",
    "                ['FoPo', 'Dorest', 'Polchi', 'Jungle'],\n",
    "                ['Biking', 'Climbing', 'Foreign Movies']],\n",
    "               ['Yish Lim',\n",
    "                '11/21/1995',\n",
    "                ['Yishfish', 'Swish'],\n",
    "                ['Music', 'Volleyball', 'Travelling']],\n",
    "               ['Robert Hillery',\n",
    "                '10/29/1993', \n",
    "                ['Rob', 'Robbie', 'Bob'],\n",
    "                ['Rock' 'climbing', 'Tennis', 'Croissants']]]\n",
    "               "
   ]
  },
  {
   "cell_type": "code",
   "execution_count": 22,
   "metadata": {},
   "outputs": [
    {
     "name": "stdout",
     "output_type": "stream",
     "text": [
      "{'Sean Abu Wilson': {'hobbies': ['NBA', 'Justice Reform', 'Twitter', 'Fitness']}, 'Forest Polchow': {'hobbies': ['Biking', 'Climbing', 'Foreign Movies']}, 'Yish Lim': {'hobbies': ['Music', 'Volleyball', 'Travelling']}, 'Robert Hillery': {'hobbies': ['Rockclimbing', 'Tennis', 'Croissants']}}\n"
     ]
    }
   ],
   "source": [
    "i_dict = {}\n",
    "for i in Instructors:\n",
    "#     print(i[0])\n",
    "    i_dict[i[0]]= {}\n",
    "    i_dict[i[0]]['hobbies']= i[3]\n",
    "print(i_dict)"
   ]
  },
  {
   "cell_type": "code",
   "execution_count": null,
   "metadata": {},
   "outputs": [],
   "source": []
  }
 ],
 "metadata": {
  "kernelspec": {
   "display_name": "Python 3",
   "language": "python",
   "name": "python3"
  },
  "language_info": {
   "codemirror_mode": {
    "name": "ipython",
    "version": 3
   },
   "file_extension": ".py",
   "mimetype": "text/x-python",
   "name": "python",
   "nbconvert_exporter": "python",
   "pygments_lexer": "ipython3",
   "version": "3.6.8"
  }
 },
 "nbformat": 4,
 "nbformat_minor": 2
}
