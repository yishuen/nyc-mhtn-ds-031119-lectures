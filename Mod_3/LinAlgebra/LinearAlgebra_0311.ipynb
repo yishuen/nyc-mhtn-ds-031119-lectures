{
 "cells": [
  {
   "cell_type": "markdown",
   "metadata": {
    "slideshow": {
     "slide_type": "slide"
    }
   },
   "source": [
    "# Getting Started\n",
    "\n",
    "https://developers.google.com/machine-learning/crash-course/regularization-for-simplicity/playground-exercise-examining-l2-regularization"
   ]
  },
  {
   "cell_type": "markdown",
   "metadata": {
    "slideshow": {
     "slide_type": "subslide"
    }
   },
   "source": [
    "## Aims: \n",
    "- Explain the role of linear algebra in data science"
   ]
  },
  {
   "cell_type": "markdown",
   "metadata": {
    "slideshow": {
     "slide_type": "subslide"
    }
   },
   "source": [
    "## Agenda:\n",
    "\n",
    "- What is linear algebra?\n",
    "- How does it realate to data science?\n",
    "- How can we use linear algebra to solve linear regression?"
   ]
  },
  {
   "cell_type": "markdown",
   "metadata": {
    "slideshow": {
     "slide_type": "slide"
    }
   },
   "source": [
    "## What is Linear Algebra\n",
    "The collection of methods deriving unknowns from knowns in mathematics. \n",
    "\n",
    "**Linear Algebra** is the branch that deals with linear equations and linear functions which are represented through matrices and vectors. \n",
    "\n",
    "Algebra deals primarily with scalars (one-dimensional entities), but Linear Algebra has vectors and matrices (entities which possess two or more dimensional components) to deal with linear equations and functions."
   ]
  },
  {
   "cell_type": "markdown",
   "metadata": {
    "slideshow": {
     "slide_type": "subslide"
    }
   },
   "source": [
    "### Scalars, Vectors, Matrices and Tensors\n",
    "- A scalar is a single number\n",
    "- A vector is an array of numbers.\n",
    "- A matrix is a 2-D array\n",
    "- A tensor is a n-dimensional array with n>2"
   ]
  },
  {
   "cell_type": "markdown",
   "metadata": {
    "slideshow": {
     "slide_type": "fragment"
    }
   },
   "source": [
    "<img src=\"./resources/linal_types.png\" width=\"350\">\n"
   ]
  },
  {
   "cell_type": "markdown",
   "metadata": {
    "slideshow": {
     "slide_type": "slide"
    }
   },
   "source": [
    "## Scalars\n",
    "\n",
    "Have magnitude only. Can be multiplied by a vector or matrix to create a change in **scale** and/or direction.\n",
    "\n"
   ]
  },
  {
   "cell_type": "code",
   "execution_count": 12,
   "metadata": {
    "slideshow": {
     "slide_type": "subslide"
    }
   },
   "outputs": [
    {
     "data": {
      "text/plain": [
       "array([ 8, 16])"
      ]
     },
     "execution_count": 12,
     "metadata": {},
     "output_type": "execute_result"
    }
   ],
   "source": [
    "v = np.array([2, 4])\n",
    "\n",
    "v * 4"
   ]
  },
  {
   "cell_type": "markdown",
   "metadata": {
    "slideshow": {
     "slide_type": "slide"
    }
   },
   "source": [
    "## Vectors\n",
    "\n",
    "An array with magnitude and direction. The coordinates of a vector represent where the tip of the vector would be if you travelled from the origin."
   ]
  },
  {
   "cell_type": "markdown",
   "metadata": {
    "slideshow": {
     "slide_type": "subslide"
    }
   },
   "source": [
    "With *transposition* we can convert a *row vector* to a *column vector* and vice versa."
   ]
  },
  {
   "cell_type": "markdown",
   "metadata": {
    "slideshow": {
     "slide_type": "fragment"
    }
   },
   "source": [
    "<img src=\"./resources/tanspose.png\" width=\"350\">"
   ]
  },
  {
   "cell_type": "markdown",
   "metadata": {
    "slideshow": {
     "slide_type": "subslide"
    }
   },
   "source": [
    "\n",
    "Operations with vectores\n",
    "\n",
    "Assume\n",
    "\n",
    "$ \\vec{v} = \\begin{bmatrix}v_{1} \\\\v_{2}\\end{bmatrix} $\n",
    "\n",
    "\n",
    "$ \\vec{w} = \\begin{bmatrix}w_{1} \\\\w_{2}\\end{bmatrix} $\n",
    "\n",
    "$ \\vec{v} + \\vec{w} = \\begin{bmatrix}v_{1} + w_{1} \\\\v_{2} + w_{2}\\end{bmatrix} $\n",
    "\n",
    "Let's look at an example:\n"
   ]
  },
  {
   "cell_type": "code",
   "execution_count": 10,
   "metadata": {
    "slideshow": {
     "slide_type": "fragment"
    }
   },
   "outputs": [
    {
     "data": {
      "text/plain": [
       "array([5, 6])"
      ]
     },
     "execution_count": 10,
     "metadata": {},
     "output_type": "execute_result"
    }
   ],
   "source": [
    "\n",
    "import numpy as np\n",
    "v = np.array([2, 4])\n",
    "w = np.array([3, 2])\n",
    "v + w"
   ]
  },
  {
   "cell_type": "markdown",
   "metadata": {
    "slideshow": {
     "slide_type": "subslide"
    }
   },
   "source": [
    "### Linear Combination\n",
    "If $v_{1},...,v_{n}$ are vectors and $a_{1},...,a_{n}$ are scalars, then the linear combination of those vectors with those scalars as coefficients is\n",
    "\n",
    "<img src = \"./resources/linear_combinations.svg\"> "
   ]
  },
  {
   "cell_type": "markdown",
   "metadata": {
    "slideshow": {
     "slide_type": "slide"
    }
   },
   "source": [
    "## Matrices\n",
    "\n",
    "An m x n matrix will have m rows and n columns.\n",
    "\n",
    "Question: In the context of machine learning which defines the number of features you have? What defines the number of observations you have?\n",
    "\n",
    "Let's create the matrix \n",
    "\n",
    "$\\begin{pmatrix}2 & 4 \\\\6 & 8 \\\\ 10 & 12\\end{pmatrix}$ "
   ]
  },
  {
   "cell_type": "code",
   "execution_count": 13,
   "metadata": {
    "slideshow": {
     "slide_type": "subslide"
    }
   },
   "outputs": [
    {
     "name": "stdout",
     "output_type": "stream",
     "text": [
      "[[ 2  4]\n",
      " [ 6  8]\n",
      " [10 12]]\n",
      "shape of A: (3, 2)\n"
     ]
    }
   ],
   "source": [
    "A = np.array([[2, 4], [6, 8], [10, 12]])\n",
    "\n",
    "print(A)\n",
    "print('shape of A:',A.shape)"
   ]
  },
  {
   "cell_type": "markdown",
   "metadata": {
    "slideshow": {
     "slide_type": "subslide"
    }
   },
   "source": [
    "Taking the **transpose** of a matrix will flip the rows and columns. You fill find this an important step when performing operations with numpy."
   ]
  },
  {
   "cell_type": "code",
   "execution_count": 14,
   "metadata": {
    "slideshow": {
     "slide_type": "fragment"
    }
   },
   "outputs": [
    {
     "name": "stdout",
     "output_type": "stream",
     "text": [
      "[[ 2  6 10]\n",
      " [ 4  8 12]]\n"
     ]
    }
   ],
   "source": [
    "transpose_a = A.T\n",
    "print(transpose_a)"
   ]
  },
  {
   "cell_type": "markdown",
   "metadata": {
    "slideshow": {
     "slide_type": "subslide"
    }
   },
   "source": [
    "### Multiplying Matrices and Vectors\n",
    "\n",
    "The dot product of matrices & vectors is used in every equation explaining data science algorithms."
   ]
  },
  {
   "cell_type": "markdown",
   "metadata": {
    "slideshow": {
     "slide_type": "fragment"
    }
   },
   "source": [
    "<img src=\"./resources/matrix_multiplication.png\" width=\"300\">\n"
   ]
  },
  {
   "cell_type": "markdown",
   "metadata": {
    "slideshow": {
     "slide_type": "subslide"
    }
   },
   "source": [
    "### Application of dot product:\n",
    "\n",
    "Imagine you are an e-commerce company. You have vectors to represent the transactions made with one of your items. Q is the quantity and represent the amount of cash either bought or sold.\n",
    "\n",
    "$ Income = (q_{1},q_{2},q_{3})\\cdot (p_{1},p_{2},p_{3}) $\n",
    "\n",
    "What story is this telling?"
   ]
  },
  {
   "cell_type": "code",
   "execution_count": 11,
   "metadata": {
    "slideshow": {
     "slide_type": "fragment"
    }
   },
   "outputs": [
    {
     "data": {
      "text/plain": [
       "470"
      ]
     },
     "execution_count": 11,
     "metadata": {},
     "output_type": "execute_result"
    }
   ],
   "source": [
    "q = np.array([4,6,10])\n",
    "p = np.array([50,-30,45])\n",
    "\n",
    "q.dot(p)"
   ]
  },
  {
   "cell_type": "markdown",
   "metadata": {
    "slideshow": {
     "slide_type": "subslide"
    }
   },
   "source": [
    "### Identity and Inverse Matrices\n",
    "The *identity matrix* In is a special matrix of shape (n×n) that is filled with 0 except the diagonal that is filled with 1. An *inverse matrix* is that results in the identity matrix when it is multiplied by its original form.\n",
    "\n"
   ]
  },
  {
   "cell_type": "markdown",
   "metadata": {
    "slideshow": {
     "slide_type": "fragment"
    }
   },
   "source": [
    "<img src=\"./resources/idenityMatrix.png\" width=\"200\">"
   ]
  },
  {
   "cell_type": "markdown",
   "metadata": {
    "slideshow": {
     "slide_type": "fragment"
    }
   },
   "source": [
    "<img src=\"./resources/invers_matrix.png\" width=\"300\">"
   ]
  },
  {
   "cell_type": "markdown",
   "metadata": {
    "slideshow": {
     "slide_type": "slide"
    }
   },
   "source": [
    "## Linear Algebra in Data Science\n"
   ]
  },
  {
   "cell_type": "markdown",
   "metadata": {
    "slideshow": {
     "slide_type": "fragment"
    }
   },
   "source": [
    "\n",
    "- Working with images\n",
    "- Principle Component Analysis\n",
    "- Linear Regression\n",
    "- Recommender systems\n",
    "- Natural Language Processing (Bag of Words)\n",
    "- Singular-Value Decomposition\n",
    "- Deep Learning\n"
   ]
  },
  {
   "cell_type": "markdown",
   "metadata": {
    "slideshow": {
     "slide_type": "subslide"
    }
   },
   "source": [
    "Linear Algebra is the basis of many machine learning models.\n",
    "\n",
    "Data is usually already set up into a matrix by default!\n",
    "\n",
    "<img src= \"./resources/dataset.jpeg\">"
   ]
  },
  {
   "cell_type": "markdown",
   "metadata": {
    "slideshow": {
     "slide_type": "subslide"
    }
   },
   "source": [
    "Important for image compression and recognition\n",
    "\n",
    "<img src = \"./resources/images.gif\" width=500>"
   ]
  },
  {
   "cell_type": "markdown",
   "metadata": {
    "slideshow": {
     "slide_type": "subslide"
    }
   },
   "source": [
    "It can be used to model complicated things like language\n",
    "\n",
    "<img src = \"./resources/Word-Vectors.png\">"
   ]
  },
  {
   "cell_type": "markdown",
   "metadata": {
    "slideshow": {
     "slide_type": "subslide"
    }
   },
   "source": [
    "In practice, especially in entry-level roles, you’ll often be using out-of-the-box ML implementations. There are robust libraries of common libraries in many programming languages. "
   ]
  },
  {
   "cell_type": "markdown",
   "metadata": {
    "slideshow": {
     "slide_type": "fragment"
    }
   },
   "source": [
    "However other roles need much more original ML research and development. You may need to translate algorithms from academic papers into working code. Or, you might research enhancements based on your business’s unique challenges.\n",
    "\n",
    "In other words, you’ll be implementing algorithms from scratch much more often.\n",
    "\n",
    "For these positions, mastery of both linear algebra and multivariable calculus is a must."
   ]
  },
  {
   "cell_type": "markdown",
   "metadata": {
    "slideshow": {
     "slide_type": "slide"
    }
   },
   "source": [
    "### Linear Algebra with Linear Regression\n",
    "\n",
    "What is the goal of linear regression?"
   ]
  },
  {
   "cell_type": "markdown",
   "metadata": {
    "slideshow": {
     "slide_type": "subslide"
    }
   },
   "source": [
    "There are many ways to describe and solve the linear regression problem, i.e. finding a set of coefficients that when multiplied by each of the input variables and added together results in the best prediction of the output variable.\n",
    "\n",
    "If you have used a machine learning tool or library, the most common way of solving linear regression is via a least squares optimization that is solved using matrix factorization methods from linear regression, such as an LU decomposition or a singular-value decomposition, or SVD.\n",
    "\n",
    "Even the common way of summarizing the linear regression equation uses linear algebra notation:\n",
    "\n",
    "`y = A . b`\n",
    "\n"
   ]
  },
  {
   "cell_type": "markdown",
   "metadata": {
    "slideshow": {
     "slide_type": "subslide"
    }
   },
   "source": [
    "Let's start with a linear hypothesis:\n",
    "\n",
    "<img src=\"./resources/linreg_model.png\" width=\"400\">"
   ]
  },
  {
   "cell_type": "markdown",
   "metadata": {
    "slideshow": {
     "slide_type": "fragment"
    }
   },
   "source": [
    "We can write the same in concise notation as below.\n",
    "\n",
    "<img src=\"./resources/concisemodel.png\" width=\"400\">\n"
   ]
  },
  {
   "cell_type": "markdown",
   "metadata": {
    "slideshow": {
     "slide_type": "subslide"
    }
   },
   "source": [
    "<img src=\"./resources/matrix_model.png\" width=\"400\">\n",
    "\n",
    "Where\n",
    "- $Y$ : is output vector for **m training examples**.\n",
    "- $\\theta$ : is weight vector of size **n** for n training features.\n",
    "- $X$ : is matrix of size m*n where each ith row belongs to ith training set.\n"
   ]
  },
  {
   "cell_type": "markdown",
   "metadata": {
    "slideshow": {
     "slide_type": "subslide"
    }
   },
   "source": [
    "<img src=\"./resources/deriv1.png\" width=\"500\">\n"
   ]
  },
  {
   "cell_type": "markdown",
   "metadata": {
    "slideshow": {
     "slide_type": "subslide"
    }
   },
   "source": [
    "<img src=\"./resources/deriv2.png\" width=\"500\">\n"
   ]
  },
  {
   "cell_type": "markdown",
   "metadata": {
    "slideshow": {
     "slide_type": "fragment"
    }
   },
   "source": [
    "<img src=\"./resources/deriv3.png\" width=\"500\">\n"
   ]
  },
  {
   "cell_type": "markdown",
   "metadata": {
    "slideshow": {
     "slide_type": "subslide"
    }
   },
   "source": [
    "Which results in:\n",
    "    \n",
    "<img src=\"./resources/deriv_final.png\" width=\"400\">\n"
   ]
  },
  {
   "cell_type": "markdown",
   "metadata": {
    "slideshow": {
     "slide_type": "fragment"
    }
   },
   "source": [
    "Here is a great link to fully explain this.\n",
    "\n",
    "\n",
    "https://medium.com/@lachlanmiller_52885/understanding-and-calculating-the-cost-function-for-linear-regression-39b8a3519fcb"
   ]
  },
  {
   "cell_type": "markdown",
   "metadata": {
    "slideshow": {
     "slide_type": "slide"
    }
   },
   "source": [
    "### Code: Linear Regression with Linear Algebra"
   ]
  },
  {
   "cell_type": "code",
   "execution_count": 4,
   "metadata": {
    "slideshow": {
     "slide_type": "subslide"
    }
   },
   "outputs": [],
   "source": [
    "import numpy as np\n",
    "import matplotlib.pyplot as plt\n",
    "%matplotlib inline"
   ]
  },
  {
   "cell_type": "code",
   "execution_count": 5,
   "metadata": {
    "slideshow": {
     "slide_type": "subslide"
    }
   },
   "outputs": [
    {
     "name": "stdout",
     "output_type": "stream",
     "text": [
      "[[0.87274988 0.72949795]\n",
      " [0.67537838 0.61663633]\n",
      " [0.54352682 0.89863689]\n",
      " [0.00530881 0.80372512]\n",
      " [0.42825509 0.35886393]\n",
      " [0.93103731 0.43877141]\n",
      " [0.93998287 0.8486905 ]\n",
      " [0.15813303 0.93163741]\n",
      " [0.46458915 0.80459239]\n",
      " [0.93863444 0.24453134]\n",
      " [0.87596808 0.11775297]\n",
      " [0.35064058 0.80144536]\n",
      " [0.08280834 0.5567987 ]\n",
      " [0.35630693 0.89835861]\n",
      " [0.6152704  0.05596535]\n",
      " [0.47431152 0.13458917]\n",
      " [0.75096653 0.79457635]\n",
      " [0.42735871 0.13706946]\n",
      " [0.16886454 0.78494365]\n",
      " [0.28849718 0.56415855]]\n"
     ]
    }
   ],
   "source": [
    "# Random data\n",
    "N = 20\n",
    "M = 2\n",
    "input = np.random.random((N,M))\n",
    "print(input)"
   ]
  },
  {
   "cell_type": "code",
   "execution_count": 6,
   "metadata": {
    "slideshow": {
     "slide_type": "subslide"
    }
   },
   "outputs": [],
   "source": [
    "# Setup matrices\n",
    "m = np.shape(input)[0]\n",
    "X = np.matrix([np.ones(m), input[:,0]]).T\n",
    "y = np.matrix(input[:,1]).T"
   ]
  },
  {
   "cell_type": "markdown",
   "metadata": {
    "slideshow": {
     "slide_type": "subslide"
    }
   },
   "source": [
    "Which results in:\n",
    "    \n",
    "<img src=\"./resources/deriv_final.png\" width=\"250\">\n"
   ]
  },
  {
   "cell_type": "code",
   "execution_count": 7,
   "metadata": {
    "slideshow": {
     "slide_type": "fragment"
    }
   },
   "outputs": [
    {
     "name": "stdout",
     "output_type": "stream",
     "text": [
      "[[ 0.72998147]\n",
      " [-0.29746936]]\n"
     ]
    }
   ],
   "source": [
    "# Solve for projection matrix\n",
    "p_mat = np.linalg.inv(X.T.dot(X)).dot(X.T).dot(y)\n",
    "print(p_mat)"
   ]
  },
  {
   "cell_type": "code",
   "execution_count": 8,
   "metadata": {
    "slideshow": {
     "slide_type": "subslide"
    }
   },
   "outputs": [],
   "source": [
    "# Find regression line\n",
    "xx = np.linspace(0, 1, 2)\n",
    "yy = np.array(p_mat[0] + p_mat[1] * xx)"
   ]
  },
  {
   "cell_type": "code",
   "execution_count": 7,
   "metadata": {
    "slideshow": {
     "slide_type": "subslide"
    }
   },
   "outputs": [
    {
     "data": {
      "image/png": "[encoded data removed]",
      "text/plain": [
       "<Figure size 432x288 with 1 Axes>"
      ]
     },
     "metadata": {
      "needs_background": "light"
     },
     "output_type": "display_data"
    }
   ],
   "source": [
    "# Plot data, regression line\n",
    "plt.figure(1)\n",
    "plt.plot(xx, yy.T, color='b')\n",
    "plt.scatter(input[:,0], input[:,1], color='r')\n",
    "plt.show()\n"
   ]
  },
  {
   "cell_type": "markdown",
   "metadata": {
    "slideshow": {
     "slide_type": "slide"
    }
   },
   "source": [
    "### Further Learning Materials\n",
    "\n",
    "#### Tutorials \n",
    "- [Linear Algebra for Data Science](https://medium.com/@rathi.ankit/linear-algebra-for-data-science-a9648b9daee0)\n",
    "- [Linear Regression](https://towardsdatascience.com/simple-linear-regression-2421076a5892)\n",
    "- [The LInear Algebra View of OLS](https://medium.com/@andrew.chamberlain/the-linear-algebra-view-of-least-squares-regression-f67044b7f39b)\n",
    "\n",
    "#### Videos\n",
    "- [Andrew Ng's Machine Learning course videos](https://www.youtube.com/watch?v=Dft1cqjwlXE&t=1s&list=PLLssT5z_DsK-h9vYZkQkYNWcItqhlRJLN&index=13)\n",
    "- [Linear Algebra Intuition Videos](https://www.youtube.com/playlist?list=PLZHQObOWTQDPD3MizzM2xVFitgF8hE_ab)  \n",
    "- [Imperial College Coursera course](https://www.coursera.org/learn/linear-algebra-machine-learning/home/welcome)    "
   ]
  },
  {
   "cell_type": "code",
   "execution_count": null,
   "metadata": {},
   "outputs": [],
   "source": []
  }
 ],
 "metadata": {
  "celltoolbar": "Slideshow",
  "kernelspec": {
   "display_name": "Python 3",
   "language": "python",
   "name": "python3"
  },
  "language_info": {
   "codemirror_mode": {
    "name": "ipython",
    "version": 3
   },
   "file_extension": ".py",
   "mimetype": "text/x-python",
   "name": "python",
   "nbconvert_exporter": "python",
   "pygments_lexer": "ipython3",
   "version": "3.6.8"
  }
 },
 "nbformat": 4,
 "nbformat_minor": 2
}
