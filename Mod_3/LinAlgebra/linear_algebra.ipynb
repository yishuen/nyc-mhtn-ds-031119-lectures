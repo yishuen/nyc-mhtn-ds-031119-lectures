{
 "cells": [
  {
   "cell_type": "markdown",
   "metadata": {
    "slideshow": {
     "slide_type": "slide"
    }
   },
   "source": [
    "### Linear Algebra\n",
    "\n",
    "#### Objectives\n",
    "* Use operations with vectors and matrices to solve systems of linear equations\n",
    "  * Identify and describe of scalars, vectors,  matrices, using appropriate mathematical jargon\n",
    "  * Create each linear algebra structure with numpy\n",
    "  * Perform operations with vectors and matrices with numpy\n",
    "    * multiplication, addition\n",
    "    * dot product\n",
    "    * transpose\n",
    "    * inverse matrices\n",
    "  * Visually represent each one of these equations \n",
    "  * Set up and solve systems of linear equations with real life examples\n"
   ]
  },
  {
   "cell_type": "markdown",
   "metadata": {
    "slideshow": {
     "slide_type": "slide"
    }
   },
   "source": [
    "## Why Linear Algebra?\n",
    "\n",
    "Linear Algebra is the basis of many machine learning models.\n",
    "\n",
    "Data is usually already set up into a matrix by default!\n",
    "\n",
    "<img src= \"./resources/dataset.jpeg\">"
   ]
  },
  {
   "cell_type": "markdown",
   "metadata": {
    "slideshow": {
     "slide_type": "slide"
    }
   },
   "source": [
    "It can be used to model complicated things like language\n",
    "\n",
    "<img src = \"./resources/Word-Vectors.png\">"
   ]
  },
  {
   "cell_type": "markdown",
   "metadata": {
    "slideshow": {
     "slide_type": "slide"
    }
   },
   "source": [
    "Important for image compression and recognition\n",
    "\n",
    "<img src = \"./resources/images.gif\">"
   ]
  },
  {
   "cell_type": "markdown",
   "metadata": {
    "slideshow": {
     "slide_type": "slide"
    }
   },
   "source": [
    "Recommendation engines are able to make much more sophisticated recommendations by using linear algebra in conjunction with user and content data.\n",
    "\n",
    "<img src = \"./resources/netflix.png\">"
   ]
  },
  {
   "cell_type": "code",
   "execution_count": null,
   "metadata": {},
   "outputs": [],
   "source": [
    "import numpy as np"
   ]
  },
  {
   "cell_type": "markdown",
   "metadata": {},
   "source": [
    "## Vectors\n",
    "\n",
    "An array with magnitude and direction. The coordinates of a vector represent where the tip of the vector would be if you travelled from the origin."
   ]
  },
  {
   "cell_type": "markdown",
   "metadata": {},
   "source": [
    "\n",
    "Operations with vectores\n",
    "Assume\n",
    "\n",
    "$ \\vec{v} = \\begin{bmatrix}v_{1} \\\\v_{2}\\end{bmatrix} $\n",
    "\n",
    "\n",
    "$ \\vec{w} = \\begin{bmatrix}w_{1} \\\\w_{2}\\end{bmatrix} $\n",
    "\n",
    "$ \\vec{v} + \\vec{w} = \\begin{bmatrix}v_{1} + w_{1} \\\\v_{2} + w_{2}\\end{bmatrix} $\n",
    "\n",
    "What is happening graphically? Let's look at an example:\n"
   ]
  },
  {
   "cell_type": "code",
   "execution_count": 88,
   "metadata": {},
   "outputs": [
    {
     "data": {
      "text/plain": [
       "array([5, 6])"
      ]
     },
     "execution_count": 88,
     "metadata": {},
     "output_type": "execute_result"
    }
   ],
   "source": [
    "\n",
    "import numpy as np\n",
    "v = np.array([2, 4])\n",
    "w = np.array([3, 2])\n",
    "v + w"
   ]
  },
  {
   "cell_type": "markdown",
   "metadata": {},
   "source": [
    "## Scalars\n",
    "\n",
    "Have magnitude only. Can be multiplied by a vector or matrix to create a change in **scale** and/or direction.\n",
    "\n",
    "What scalars would you need to change the direction of a vector?"
   ]
  },
  {
   "cell_type": "code",
   "execution_count": 17,
   "metadata": {
    "scrolled": true
   },
   "outputs": [
    {
     "data": {
      "text/plain": [
       "array([ 8, 16, 20])"
      ]
     },
     "execution_count": 17,
     "metadata": {},
     "output_type": "execute_result"
    }
   ],
   "source": [
    "v * 4"
   ]
  },
  {
   "cell_type": "markdown",
   "metadata": {},
   "source": [
    "### Linear Combination\n",
    "If $v_{1},...,v_{n}$ are vectors and $a_{1},...,a_{n}$ are scalars, then the linear combination of those vectors with those scalars as coefficients is\n",
    "\n",
    "<img src = \"./resources/linear_combinations.svg\"> "
   ]
  },
  {
   "cell_type": "markdown",
   "metadata": {},
   "source": [
    "### Dot Product\n",
    "\n",
    "Can be thought of as one vector projected onto another\n",
    "\n",
    "The dot product of v and w is $v \\cdot w = (v_{1})(w_{2}) + (v_{1})(v_{2}) $\n",
    "\n",
    "\n",
    "If v and w are perpendicular ($90^\\circ$), their dot product will be 0.\n",
    "\n",
    "If the angle between v and w is < $90^\\circ$, the dot product will be positive.\n",
    "\n",
    "If the angle between v and w is between $90^\\circ$ and $180^\\circ$, the dot product will be negative.\n",
    "\n",
    "\n",
    "\n",
    "\n",
    "\n",
    "“The scalar projection of A onto B multiplied by the magnitude of B”\n",
    "\n",
    "“The scalar projection of B onto A multiplied by the magnitude of A”\n",
    "\n",
    "<img src = \"./resources/dot_product.png\">\n",
    "\n",
    "<img src = \"./resources/dot_product_components.png\">"
   ]
  },
  {
   "cell_type": "markdown",
   "metadata": {},
   "source": [
    "We are essentially, rotating vectors to the point of \n",
    "a · b = |a| × |b| × cos(θ)"
   ]
  },
  {
   "cell_type": "markdown",
   "metadata": {},
   "source": [
    "Analogy from https://www.youtube.com/watch?v=FrDAU2N0FEg"
   ]
  },
  {
   "cell_type": "code",
   "execution_count": 43,
   "metadata": {},
   "outputs": [
    {
     "data": {
      "text/plain": [
       "-28"
      ]
     },
     "execution_count": 43,
     "metadata": {},
     "output_type": "execute_result"
    }
   ],
   "source": [
    "v.dot(w)"
   ]
  },
  {
   "cell_type": "markdown",
   "metadata": {},
   "source": [
    "### Application of dot product:\n",
    "\n",
    "Imagine you are an e-commerce company. You have vectors to represent the transactions made with one of your items. Q is the quantity and represent the amount of cash either bought or sold.\n",
    "\n",
    "$ Income = (q_{1},q_{2},q_{3})\\cdot (p_{1},p_{2},p_{3}) $\n",
    "\n",
    "What story is this telling?"
   ]
  },
  {
   "cell_type": "code",
   "execution_count": 44,
   "metadata": {},
   "outputs": [
    {
     "data": {
      "text/plain": [
       "470"
      ]
     },
     "execution_count": 44,
     "metadata": {},
     "output_type": "execute_result"
    }
   ],
   "source": [
    "q = np.array([4,6,10])\n",
    "p = np.array([50,-30,45])\n",
    "\n",
    "q.dot(p)"
   ]
  },
  {
   "cell_type": "markdown",
   "metadata": {},
   "source": [
    "### Magnitude of a vector\n",
    "\n",
    "\n",
    "\n",
    "\n",
    "$length = \\|v \\| = \\sqrt{v \\cdot v} = (v_{1}^2 + v_{2}^2 + \\cdot \\cdot \\cdot \\cdot + v_{n}^2)$\n"
   ]
  },
  {
   "cell_type": "code",
   "execution_count": 86,
   "metadata": {},
   "outputs": [
    {
     "data": {
      "text/plain": [
       "12.328828005937952"
      ]
     },
     "execution_count": 86,
     "metadata": {},
     "output_type": "execute_result"
    }
   ],
   "source": [
    "np.linalg.norm(q)"
   ]
  },
  {
   "cell_type": "markdown",
   "metadata": {},
   "source": [
    "## Matrices\n",
    "\n",
    "An m x n matrix will have m rows and n columns.\n",
    "\n",
    "Question: In the context of machine learning which defines the number of features you have? What defines the number of observations you have?\n",
    "\n",
    "Let's create the matrix \n",
    "\n",
    "$\\begin{pmatrix}2 & 4 \\\\6 & 8 \\\\ 10 & 12\\end{pmatrix}$ \n",
    "\n",
    "What would we call this matrix?"
   ]
  },
  {
   "cell_type": "code",
   "execution_count": 24,
   "metadata": {},
   "outputs": [
    {
     "name": "stdout",
     "output_type": "stream",
     "text": [
      "[[ 2  4]\n",
      " [ 6  8]\n",
      " [10 12]]\n",
      "shape of A: (3, 2)\n"
     ]
    }
   ],
   "source": [
    "A = np.array([[2, 4], [6, 8], [10, 12]])\n",
    "\n",
    "print(A)\n",
    "print('shape of A:',A.shape)"
   ]
  },
  {
   "cell_type": "markdown",
   "metadata": {},
   "source": [
    "Taking the **transpose** of a matrix will flip the rows and columns. You fill find this an important step when performing operations with numpy."
   ]
  },
  {
   "cell_type": "code",
   "execution_count": 27,
   "metadata": {
    "scrolled": true
   },
   "outputs": [
    {
     "name": "stdout",
     "output_type": "stream",
     "text": [
      "[[ 2  6 10]\n",
      " [ 4  8 12]]\n"
     ]
    }
   ],
   "source": [
    "transpose_a = A.T\n",
    "print(transpose_a)"
   ]
  },
  {
   "cell_type": "markdown",
   "metadata": {},
   "source": [
    "### Multiplying Matrices\n",
    "\n",
    "Why does order matter, an intuitive approach?\n",
    "The associative/commutative properties do not hold for matrices!\n",
    "\n",
    "i.e. \n",
    "\n",
    "$AB ≠ BA $  \n",
    "\n",
    "and\n",
    "\n",
    "$(AB)C ≠ A(BC)$\n",
    "\n",
    "\n",
    "We can geometrically think of a matrix as performing a transformation.\n",
    "\n",
    "The *columns* of your first matrix must match the *rows* of your second. \n",
    "\n",
    "When multiplying two matrices: \n",
    "\n",
    "$ m_{1} \\ x \\  n_{1} $ matrix by a \n",
    "\n",
    "$ m_{2}\\ x \\ n_{2} $ matrix\n",
    "\n",
    "The resultant matrix will be $m_{1} \\ x \\ n_{2}$"
   ]
  },
  {
   "cell_type": "code",
   "execution_count": 56,
   "metadata": {},
   "outputs": [
    {
     "name": "stdout",
     "output_type": "stream",
     "text": [
      "a.b \n",
      " [[-15  12]\n",
      " [ 35  68]]\n",
      "---------\n",
      "b.a \n",
      " [[ 65  30]\n",
      " [ 22 -12]]\n"
     ]
    }
   ],
   "source": [
    "a\n",
    "\n",
    "b = np.array([[5,20],[10,4]])\n",
    "\n",
    "print('a.b \\n', a.dot(b))\n",
    "print('---------')\n",
    "print('b.a \\n',b.dot(a))"
   ]
  },
  {
   "cell_type": "markdown",
   "metadata": {},
   "source": [
    "## Inverse of Matrices\n",
    "\n",
    "It is not possible to divide by matrices. What we can do is find the **inverse** of a matrix. When a matrix is multiplied by its inverse, it results in the identity matrix. When a matrix is multiplied by an identity matrix, it will result in the same matrix (think of it as the operational equivalent to 1 for linear algebra).\n",
    "\n",
    "<img src = \"./resources/inverse.webp\">\n",
    "\n",
    "An identity matrix will be square with a diagonal of 1's moving from left to right and the remaining numbers 0.\n",
    "\n",
    "<img src = \"./resources/identity_matrix.svg\">\n",
    "\n",
    "The order of multiplication does not matter for a matrix and its inverse:\n",
    "\n",
    "$A \\cdot A^{-1} = A^{-1} \\cdot A $\n",
    "\n"
   ]
  },
  {
   "cell_type": "code",
   "execution_count": 32,
   "metadata": {},
   "outputs": [],
   "source": [
    "x = np.array([[4,8,10],[3,9,12],[5,10,15]])\n",
    "i_3 = np.identity(3)"
   ]
  },
  {
   "cell_type": "code",
   "execution_count": 35,
   "metadata": {},
   "outputs": [
    {
     "data": {
      "text/plain": [
       "array([[ 4,  8, 10],\n",
       "       [ 3,  9, 12],\n",
       "       [ 5, 10, 15]])"
      ]
     },
     "execution_count": 35,
     "metadata": {},
     "output_type": "execute_result"
    }
   ],
   "source": [
    "x"
   ]
  },
  {
   "cell_type": "code",
   "execution_count": 36,
   "metadata": {},
   "outputs": [
    {
     "data": {
      "text/plain": [
       "array([[ 4.,  8., 10.],\n",
       "       [ 3.,  9., 12.],\n",
       "       [ 5., 10., 15.]])"
      ]
     },
     "execution_count": 36,
     "metadata": {},
     "output_type": "execute_result"
    }
   ],
   "source": [
    "x.dot(i_3)"
   ]
  },
  {
   "cell_type": "code",
   "execution_count": 80,
   "metadata": {},
   "outputs": [
    {
     "data": {
      "text/plain": [
       "array([[ 5.00000000e-01, -6.66666667e-01,  2.00000000e-01],\n",
       "       [ 5.00000000e-01,  3.33333333e-01, -6.00000000e-01],\n",
       "       [-5.00000000e-01, -7.40148683e-17,  4.00000000e-01]])"
      ]
     },
     "execution_count": 80,
     "metadata": {},
     "output_type": "execute_result"
    }
   ],
   "source": [
    "inv_x = np.linalg.inv(x)\n",
    "inv_x"
   ]
  },
  {
   "cell_type": "code",
   "execution_count": 84,
   "metadata": {},
   "outputs": [
    {
     "data": {
      "text/plain": [
       "array([[ 1.,  0.,  0.],\n",
       "       [-0.,  1.,  0.],\n",
       "       [-0., -0.,  1.]])"
      ]
     },
     "execution_count": 84,
     "metadata": {},
     "output_type": "execute_result"
    }
   ],
   "source": [
    "np.round(x.dot(inv_x))"
   ]
  },
  {
   "cell_type": "code",
   "execution_count": 83,
   "metadata": {},
   "outputs": [
    {
     "data": {
      "text/plain": [
       "array([[ 1.,  0.,  0.],\n",
       "       [ 0.,  1.,  0.],\n",
       "       [ 0., -0.,  1.]])"
      ]
     },
     "execution_count": 83,
     "metadata": {},
     "output_type": "execute_result"
    }
   ],
   "source": [
    "np.round(inv_x.dot(x))"
   ]
  },
  {
   "cell_type": "markdown",
   "metadata": {},
   "source": [
    "## Systems of Equations\n",
    "\n",
    "You are freelancing as a data scientist, and things are going great! You have just completed two jobs, however, you cannot remember the rate you set for each one.\n",
    "\n",
    "Let's assume we have two equations:\n",
    "\n",
    "\n",
    "`` x - 2y = 1 ``\n",
    "\n",
    "`` 3x + 2y = 11`` \n",
    "\n",
    "Let's try and solve it \n",
    "\n",
    "1. with a system of equations\n",
    "2. graphically"
   ]
  },
  {
   "cell_type": "code",
   "execution_count": null,
   "metadata": {},
   "outputs": [],
   "source": [
    "\n",
    "\n",
    "\n",
    "\n",
    "\n",
    "\n",
    "\n",
    "\n",
    "\n",
    "\n"
   ]
  },
  {
   "cell_type": "markdown",
   "metadata": {},
   "source": [
    "How could we formulaically solve for our vector x? We can't divide by A!!! We can, however, multiply by the inverse to both sides\n",
    "\n",
    "$ A \\cdot X = B $\n",
    "\n",
    "$ A^{-1} A X = A^{-1} \\cdot B  $\n",
    "\n",
    "$I \\cdot X   = A^{-1} \\cdot B $"
   ]
  },
  {
   "cell_type": "markdown",
   "metadata": {},
   "source": [
    "$\\begin{pmatrix}1 & -2 \\\\3 & 2 \\end{pmatrix} \\cdot \\begin{pmatrix}x \\\\ y \\end{pmatrix} = \\begin{pmatrix}1 \\\\11\\end{pmatrix}$ "
   ]
  },
  {
   "cell_type": "code",
   "execution_count": 74,
   "metadata": {},
   "outputs": [
    {
     "data": {
      "text/plain": [
       "array([[3.],\n",
       "       [1.]])"
      ]
     },
     "execution_count": 74,
     "metadata": {},
     "output_type": "execute_result"
    }
   ],
   "source": [
    "a = np.array([[1,-2],[3,2]])\n",
    "b = np.array([[1],[11]])\n",
    "inv_a = np.linalg.inv(a)\n",
    "\n",
    "\n",
    "inv_a.dot(b)"
   ]
  },
  {
   "cell_type": "code",
   "execution_count": 75,
   "metadata": {},
   "outputs": [
    {
     "data": {
      "text/plain": [
       "(2, 2)"
      ]
     },
     "execution_count": 75,
     "metadata": {},
     "output_type": "execute_result"
    }
   ],
   "source": [
    "inv_a.shape"
   ]
  },
  {
   "cell_type": "code",
   "execution_count": null,
   "metadata": {},
   "outputs": [],
   "source": []
  },
  {
   "cell_type": "code",
   "execution_count": 65,
   "metadata": {},
   "outputs": [
    {
     "data": {
      "text/plain": [
       "array([[3.],\n",
       "       [1.]])"
      ]
     },
     "execution_count": 65,
     "metadata": {},
     "output_type": "execute_result"
    }
   ],
   "source": [
    "inv_a.dot(b)"
   ]
  },
  {
   "cell_type": "markdown",
   "metadata": {},
   "source": [
    "More resources: "
   ]
  },
  {
   "cell_type": "markdown",
   "metadata": {},
   "source": [
    "### 3 Blue 1 Brown:  https://www.youtube.com/playlist?list=PLZHQObOWTQDPD3MizzM2xVFitgF8hE_a\n",
    "\n",
    "So good!!!!"
   ]
  }
 ],
 "metadata": {
  "kernelspec": {
   "display_name": "Python 3",
   "language": "python",
   "name": "python3"
  },
  "language_info": {
   "codemirror_mode": {
    "name": "ipython",
    "version": 3
   },
   "file_extension": ".py",
   "mimetype": "text/x-python",
   "name": "python",
   "nbconvert_exporter": "python",
   "pygments_lexer": "ipython3",
   "version": "3.6.8"
  }
 },
 "nbformat": 4,
 "nbformat_minor": 2
}
